{
 "cells": [
  {
   "cell_type": "markdown",
   "metadata": {},
   "source": [
    "# TEXT ANALYTICS GROUP ASSIGNMENT #2"
   ]
  },
  {
   "cell_type": "markdown",
   "metadata": {},
   "source": [
    "#### Group Members: Brooks Beckelman, Zack Bilderback, Dallas Griffin, Estevan Gonzalez, Sean Kessel, Davis Townsend"
   ]
  },
  {
   "cell_type": "code",
   "execution_count": 44,
   "metadata": {
    "collapsed": false
   },
   "outputs": [
    {
     "name": "stdout",
     "output_type": "stream",
     "text": [
      "Populating the interactive namespace from numpy and matplotlib\n"
     ]
    },
    {
     "name": "stderr",
     "output_type": "stream",
     "text": [
      "WARNING: pylab import has clobbered these variables: ['sample', 'mat', 'test']\n",
      "`%matplotlib` prevents importing * from pylab and numpy\n"
     ]
    }
   ],
   "source": [
    "import pandas as pd\n",
    "from pandas import Series, DataFrame\n",
    "%pylab inline\n",
    "\n",
    "import seaborn as sns\n",
    "\n",
    "import sklearn\n",
    "from sklearn.cross_validation import train_test_split\n",
    "from sklearn import linear_model\n",
    "from sklearn import metrics\n",
    "from sklearn.neighbors import KNeighborsClassifier\n",
    "from sklearn.naive_bayes import MultinomialNB\n",
    "from sklearn.feature_extraction.text import CountVectorizer"
   ]
  },
  {
   "cell_type": "code",
   "execution_count": 45,
   "metadata": {
    "collapsed": false
   },
   "outputs": [],
   "source": [
    "yelp = pd.read_csv('YelpData.csv')"
   ]
  },
  {
   "cell_type": "code",
   "execution_count": 46,
   "metadata": {
    "collapsed": false
   },
   "outputs": [
    {
     "data": {
      "text/html": [
       "<div>\n",
       "<table border=\"1\" class=\"dataframe\">\n",
       "  <thead>\n",
       "    <tr style=\"text-align: right;\">\n",
       "      <th></th>\n",
       "      <th>stars</th>\n",
       "      <th>votes_cool</th>\n",
       "      <th>votes_funny</th>\n",
       "      <th>votes_useful</th>\n",
       "      <th>Cheap</th>\n",
       "      <th>Moderate</th>\n",
       "      <th>Expensive</th>\n",
       "      <th>VeryExpensive</th>\n",
       "      <th>American</th>\n",
       "      <th>Chinese</th>\n",
       "      <th>...</th>\n",
       "      <th>Indian</th>\n",
       "      <th>Italian</th>\n",
       "      <th>Greek</th>\n",
       "      <th>Mediterranean</th>\n",
       "      <th>Mexican</th>\n",
       "      <th>Thai</th>\n",
       "      <th>Vietnamese</th>\n",
       "      <th>Others</th>\n",
       "      <th>Review</th>\n",
       "      <th>rating</th>\n",
       "    </tr>\n",
       "  </thead>\n",
       "  <tbody>\n",
       "    <tr>\n",
       "      <th>0</th>\n",
       "      <td>1</td>\n",
       "      <td>0</td>\n",
       "      <td>0</td>\n",
       "      <td>0</td>\n",
       "      <td>1</td>\n",
       "      <td>0</td>\n",
       "      <td>0</td>\n",
       "      <td>0</td>\n",
       "      <td>0</td>\n",
       "      <td>0</td>\n",
       "      <td>...</td>\n",
       "      <td>0</td>\n",
       "      <td>0</td>\n",
       "      <td>0</td>\n",
       "      <td>0</td>\n",
       "      <td>0</td>\n",
       "      <td>0</td>\n",
       "      <td>0</td>\n",
       "      <td>1</td>\n",
       "      <td>This location is out of business. I drove by i...</td>\n",
       "      <td>low</td>\n",
       "    </tr>\n",
       "  </tbody>\n",
       "</table>\n",
       "<p>1 rows × 22 columns</p>\n",
       "</div>"
      ],
      "text/plain": [
       "   stars  votes_cool  votes_funny  votes_useful  Cheap  Moderate  Expensive  \\\n",
       "0      1           0            0             0      1         0          0   \n",
       "\n",
       "   VeryExpensive  American  Chinese   ...    Indian  Italian  Greek  \\\n",
       "0              0         0        0   ...         0        0      0   \n",
       "\n",
       "   Mediterranean  Mexican  Thai  Vietnamese  Others  \\\n",
       "0              0        0     0           0       1   \n",
       "\n",
       "                                              Review  rating  \n",
       "0  This location is out of business. I drove by i...     low  \n",
       "\n",
       "[1 rows x 22 columns]"
      ]
     },
     "execution_count": 46,
     "metadata": {},
     "output_type": "execute_result"
    }
   ],
   "source": [
    "# Convert rating to high (4,5) or low (1,2,3) for binary classification\n",
    "yelp['rating'] = np.where(yelp['stars'] >= 4, 'high','low')\n",
    "yelp.head(1)"
   ]
  },
  {
   "cell_type": "markdown",
   "metadata": {},
   "source": [
    "## Task A: Model Using Numeric Data Only"
   ]
  },
  {
   "cell_type": "markdown",
   "metadata": {},
   "source": [
    "### Approach:\n",
    "To assess the predictive power of the numerical data, we will isolate it from the actual reviews and build a few different models. These models will be fit to a training set of 75% of the data and then used to predict a test set of the remaining 25%. The accuracy of these predictions compared to a base case (predicting all reviews to have a 'high' rating) should give us an idea of the out-of-sample predictive ability of the numerical data. \n"
   ]
  },
  {
   "cell_type": "code",
   "execution_count": 47,
   "metadata": {
    "collapsed": true
   },
   "outputs": [],
   "source": [
    "# Split data into train and test sets\n",
    "train, test = train_test_split(yelp, test_size=0.25, random_state=123)\n",
    "\n",
    "x_train = train.drop(['stars', 'Review', 'rating'], axis=1)\n",
    "y_train = train['rating']\n",
    "\n",
    "x_test = test.drop(['stars', 'Review', 'rating'], axis=1)\n",
    "y_test = test['rating']"
   ]
  },
  {
   "cell_type": "markdown",
   "metadata": {},
   "source": [
    "### Base Case:\n",
    "The base case simply predicts all reviews to have a 'high' rating. This approach predicts the rating class correctly for just under 68% of the samples in the data set. Going forward, we will compare the accuracy of our models to this baseline to give us an idea of how well the models are performing."
   ]
  },
  {
   "cell_type": "code",
   "execution_count": 48,
   "metadata": {
    "collapsed": false
   },
   "outputs": [],
   "source": [
    "# Create base case that predicts all reviews to have a 'high' rating\n",
    "base = ['high']*len(yelp)\n",
    "base = np.asarray(base)"
   ]
  },
  {
   "cell_type": "code",
   "execution_count": 49,
   "metadata": {
    "collapsed": false
   },
   "outputs": [
    {
     "name": "stdout",
     "output_type": "stream",
     "text": [
      "Precision:0.677683884194\n",
      "Recall: 1.0\n",
      "Accuracy: 0.677683884194\n"
     ]
    }
   ],
   "source": [
    "# Base Case Metrics\n",
    "print 'Precision:' + str(metrics.precision_score(yelp['rating'], base, average = 'binary', pos_label='high'))\n",
    "print 'Recall: ' + str(metrics.recall_score(yelp['rating'], base, average = 'binary', pos_label='high'))\n",
    "print 'Accuracy: ' + str(metrics.accuracy_score(yelp['rating'], base))"
   ]
  },
  {
   "cell_type": "markdown",
   "metadata": {},
   "source": [
    "### Logistic Regression:\n",
    "A logistic regression model using only the numeric data yields an accuracy of about 68.44% on our test set. This is only slightly better than our base case, indicating that the model's predictive power is not very strong."
   ]
  },
  {
   "cell_type": "code",
   "execution_count": 50,
   "metadata": {
    "collapsed": false
   },
   "outputs": [],
   "source": [
    "# Fit logistic regression on training data\n",
    "logreg = linear_model.LogisticRegression()\n",
    "logreg_classifier = logreg.fit(x_train, y_train)\n",
    "\n",
    "# Make predictions for test set\n",
    "logreg_predict = logreg.predict(x_test)"
   ]
  },
  {
   "cell_type": "code",
   "execution_count": 51,
   "metadata": {
    "collapsed": false
   },
   "outputs": [
    {
     "name": "stdout",
     "output_type": "stream",
     "text": [
      "LOGISTIC REGRESSION: \n",
      "Precision:0.689127738735\n",
      "Recall: 0.978286384977\n",
      "Accuracy: 0.6844\n"
     ]
    }
   ],
   "source": [
    "# Model Metrics\n",
    "print 'LOGISTIC REGRESSION: '\n",
    "print 'Precision:' + str(metrics.precision_score(y_test, logreg_predict, average = 'binary', pos_label='high'))\n",
    "print 'Recall: ' + str(metrics.recall_score(y_test, logreg_predict, average = 'binary', pos_label='high'))\n",
    "print 'Accuracy: ' + str(metrics.accuracy_score(y_test, logreg_predict))"
   ]
  },
  {
   "cell_type": "code",
   "execution_count": 52,
   "metadata": {
    "collapsed": false
   },
   "outputs": [
    {
     "data": {
      "text/plain": [
       "<matplotlib.text.Text at 0x208594e0>"
      ]
     },
     "execution_count": 52,
     "metadata": {},
     "output_type": "execute_result"
    },
    {
     "data": {
      "image/png": "[encoded data removed]",
      "text/plain": [
       "<matplotlib.figure.Figure at 0x285c29b0>"
      ]
     },
     "metadata": {},
     "output_type": "display_data"
    }
   ],
   "source": [
    "# Fancy boy confusion matrix\n",
    "mat = metrics.confusion_matrix(y_test, logreg_predict)\n",
    "sns.heatmap(mat.T, square=True, annot=True, fmt='d', cbar=True, \n",
    "            xticklabels=unique(y_test), yticklabels=unique(logreg_predict))\n",
    "plt.xlabel('Actual Ratings')\n",
    "plt.ylabel('Predicted Ratings')\n",
    "plt.title('Logistic Regression')"
   ]
  },
  {
   "cell_type": "markdown",
   "metadata": {},
   "source": [
    "### Naive Bayes:\n",
    "A multinomial naive bayes model using only the text data yields an accuracy of about 68.12% for our test set. This, once again, is only slightly greater than the base case, indicating another model without much predictive power."
   ]
  },
  {
   "cell_type": "code",
   "execution_count": 53,
   "metadata": {
    "collapsed": false
   },
   "outputs": [],
   "source": [
    "# Fit naive bayes classifier on training data\n",
    "mnb = MultinomialNB()\n",
    "mnb_classifier = mnb.fit(x_train, y_train)\n",
    "\n",
    "# Make predictions for test set\n",
    "mnb_predict = mnb.predict(x_test)"
   ]
  },
  {
   "cell_type": "code",
   "execution_count": 54,
   "metadata": {
    "collapsed": false
   },
   "outputs": [
    {
     "name": "stdout",
     "output_type": "stream",
     "text": [
      "MULTINOMIAL NAIVE BAYES:\n",
      "Precision:0.682055399438\n",
      "Recall: 0.9970657277\n",
      "Accuracy: 0.6812\n"
     ]
    }
   ],
   "source": [
    "# Model Metrics\n",
    "print 'MULTINOMIAL NAIVE BAYES:'\n",
    "print 'Precision:' + str(metrics.precision_score(y_test, mnb_predict, average = 'binary', pos_label='high'))\n",
    "print 'Recall: ' + str(metrics.recall_score(y_test, mnb_predict, average = 'binary', pos_label='high'))\n",
    "print 'Accuracy: ' + str(metrics.accuracy_score(y_test, mnb_predict))"
   ]
  },
  {
   "cell_type": "code",
   "execution_count": 55,
   "metadata": {
    "collapsed": false
   },
   "outputs": [
    {
     "data": {
      "text/plain": [
       "<matplotlib.text.Text at 0x26dbbd30>"
      ]
     },
     "execution_count": 55,
     "metadata": {},
     "output_type": "execute_result"
    },
    {
     "data": {
      "image/png": "[encoded data removed]",
      "text/plain": [
       "<matplotlib.figure.Figure at 0x26fd8080>"
      ]
     },
     "metadata": {},
     "output_type": "display_data"
    }
   ],
   "source": [
    "# Fancy boy confusion matrix\n",
    "mat = metrics.confusion_matrix(y_test, mnb_predict)\n",
    "sns.heatmap(mat.T, square=True, annot=True, fmt='d', cbar=True, \n",
    "            xticklabels=unique(y_test), yticklabels=unique(mnb_predict))\n",
    "plt.xlabel('Actual Ratings')\n",
    "plt.ylabel('Predicted Ratings')\n",
    "plt.title('Multinomial Naive Bayes')"
   ]
  },
  {
   "cell_type": "markdown",
   "metadata": {},
   "source": [
    "### Conclusion\n",
    "After comparing the prediction accuracy of both models to that of the base case, it is apparent that not much predictive power is gained from the numerical data. Both the logistic regression and multinomial naive bayes models predicted the test set with an accuracy of just over 68%, less than 1% better than the base case. It appears that the main problem with both models, and thus with the numeric data in general, is that they drastically overpredict the number of 'high' ratings and drastically underpredict the number of 'low' ratings."
   ]
  },
  {
   "cell_type": "markdown",
   "metadata": {},
   "source": [
    "## Task B: Model Using Reviews (Text Data) Only"
   ]
  },
  {
   "cell_type": "markdown",
   "metadata": {},
   "source": [
    "### Approach:\n",
    "Next, we will try to assess the predictive power of the text data from the actual reviews and compare it to that of the numerical data. To do this, we will isolate the text data, just as we isolated the numerical data in part A, and build a couple of models to make predictions. For time purposes, we will only take a sample of 10,000 reviews rather than use the entire data set when fitting and testing these models. The models will be fit to a training set containing 75% of the sample and then used to predict a test set containing the remaining 25%. We will compare the results to those found in part A to assess the predictive power of the text data relative to that of the numeric data.  "
   ]
  },
  {
   "cell_type": "code",
   "execution_count": 56,
   "metadata": {
    "collapsed": false
   },
   "outputs": [],
   "source": [
    "# Take random sample of 10,000 reviews from data set\n",
    "sample = yelp.sample(10000, random_state=321)\n",
    "\n",
    "# Split sample into train and test sets\n",
    "trainB, testB = train_test_split(sample, test_size=0.25, random_state=123)\n",
    "\n",
    "x_trainB = trainB['Review']\n",
    "y_trainB = trainB['rating']\n",
    "\n",
    "x_testB = testB['Review']\n",
    "y_testB = testB['rating']"
   ]
  },
  {
   "cell_type": "code",
   "execution_count": 57,
   "metadata": {
    "collapsed": false
   },
   "outputs": [],
   "source": [
    "# Tokenize reviews in the training and test sets\n",
    "vectorizer = CountVectorizer(analyzer = 'word', tokenizer= None, preprocessor = None, \n",
    "                             stop_words = None, max_features = None)\n",
    "\n",
    "x_trainB = vectorizer.fit_transform(x_trainB)\n",
    "x_testB = vectorizer.transform(x_testB)"
   ]
  },
  {
   "cell_type": "markdown",
   "metadata": {},
   "source": [
    "### Naive Bayes:\n",
    "A multinomial naive bayes model using the text data yields an accuracy of about 83.24% on our test set. This is significantly higher than the test accuracies that we saw for our two models that were fit using the numeric data. It is also significantly higher than the base case, indicating that the model has some predictive power.  "
   ]
  },
  {
   "cell_type": "code",
   "execution_count": 58,
   "metadata": {
    "collapsed": false
   },
   "outputs": [],
   "source": [
    "# Fit naive bayes classifier on training set\n",
    "mnb_classifierB = MultinomialNB()\n",
    "mnb_classifierB.fit(x_trainB, y_trainB)\n",
    "\n",
    "# Make predictions for test set\n",
    "mnb_predictB = mnb_classifierB.predict(x_testB)"
   ]
  },
  {
   "cell_type": "code",
   "execution_count": 59,
   "metadata": {
    "collapsed": false
   },
   "outputs": [
    {
     "name": "stdout",
     "output_type": "stream",
     "text": [
      "MULTINOMIAL NAIVE BAYES:\n",
      "Precision:0.857612267251\n",
      "Recall: 0.907826086957\n",
      "Accuracy: 0.8324\n"
     ]
    }
   ],
   "source": [
    "# Model Metrics\n",
    "print 'MULTINOMIAL NAIVE BAYES:'\n",
    "print 'Precision:' + str(metrics.precision_score(y_testB, mnb_predictB, average = 'binary', pos_label='high'))\n",
    "print 'Recall: ' + str(metrics.recall_score(y_testB, mnb_predictB, average = 'binary', pos_label='high'))\n",
    "print 'Accuracy: ' + str(metrics.accuracy_score(y_testB, mnb_predictB))"
   ]
  },
  {
   "cell_type": "code",
   "execution_count": 60,
   "metadata": {
    "collapsed": false
   },
   "outputs": [
    {
     "data": {
      "text/plain": [
       "<matplotlib.text.Text at 0xeaa0630>"
      ]
     },
     "execution_count": 60,
     "metadata": {},
     "output_type": "execute_result"
    },
    {
     "data": {
      "image/png": "[encoded data removed]",
      "text/plain": [
       "<matplotlib.figure.Figure at 0x26d8c1d0>"
      ]
     },
     "metadata": {},
     "output_type": "display_data"
    }
   ],
   "source": [
    "# Fancy boy confusion matrix\n",
    "mat = metrics.confusion_matrix(y_testB, mnb_predictB)\n",
    "sns.heatmap(mat.T, square=True, annot=True, fmt='d', cbar=True, \n",
    "            xticklabels=unique(y_testB), yticklabels=unique(mnb_predictB))\n",
    "plt.xlabel('Actual Ratings')\n",
    "plt.ylabel('Predicted Ratings')\n",
    "plt.title('Multinomial Naive Bayes')"
   ]
  },
  {
   "cell_type": "markdown",
   "metadata": {},
   "source": [
    "### Logistic Regression:\n",
    "A logistic regression model fit on the text data yields an accuracy of about 82.56%. This is on the order of what we saw from the naive bayes model fit on the same data and significantly higher than the models fit on the numeric data. "
   ]
  },
  {
   "cell_type": "code",
   "execution_count": 61,
   "metadata": {
    "collapsed": false
   },
   "outputs": [],
   "source": [
    "# Fit logistic regression on training data\n",
    "logreg_classifierB = linear_model.LogisticRegression().fit(x_trainB, y_trainB)\n",
    "\n",
    "# Make predictions for test set\n",
    "logreg_predictB = logreg_classifierB.predict(x_testB)"
   ]
  },
  {
   "cell_type": "code",
   "execution_count": 62,
   "metadata": {
    "collapsed": false
   },
   "outputs": [
    {
     "name": "stdout",
     "output_type": "stream",
     "text": [
      "LOGISTIC REGRESSION:\n",
      "Precision:0.863508178229\n",
      "Recall: 0.887536231884\n",
      "Accuracy: 0.8256\n"
     ]
    }
   ],
   "source": [
    "# Model Metrics\n",
    "print 'LOGISTIC REGRESSION:'\n",
    "print 'Precision:' + str(metrics.precision_score(y_testB, logreg_predictB, average = 'binary', pos_label='high'))\n",
    "print 'Recall: ' + str(metrics.recall_score(y_testB, logreg_predictB, average = 'binary', pos_label='high'))\n",
    "print 'Accuracy: ' + str(metrics.accuracy_score(y_testB, logreg_predictB))"
   ]
  },
  {
   "cell_type": "code",
   "execution_count": 63,
   "metadata": {
    "collapsed": false
   },
   "outputs": [
    {
     "data": {
      "text/plain": [
       "<matplotlib.text.Text at 0x27a03518>"
      ]
     },
     "execution_count": 63,
     "metadata": {},
     "output_type": "execute_result"
    },
    {
     "data": {
      "image/png": "[encoded data removed]",
      "text/plain": [
       "<matplotlib.figure.Figure at 0x279d3ac8>"
      ]
     },
     "metadata": {},
     "output_type": "display_data"
    }
   ],
   "source": [
    "# Fancy boy confusion matrix\n",
    "mat = metrics.confusion_matrix(y_testB, logreg_predictB)\n",
    "sns.heatmap(mat.T, square=True, annot=True, fmt='d', cbar=True, \n",
    "            xticklabels=unique(y_testB), yticklabels=unique(logreg_predictB))\n",
    "plt.xlabel('Actual Ratings')\n",
    "plt.ylabel('Predicted Ratings')\n",
    "plt.title('Logistic Regression')"
   ]
  },
  {
   "cell_type": "markdown",
   "metadata": {},
   "source": [
    "### Conclusion\n",
    "Both models that were fit using the text data performed significantly better than the models that were fit using the numeric data. The multinomial naive bayes model predicted the test set with a slightly higher accuracy than the logistic regression model, but the difference was marginal. These results seem to indicate that the predictive power of the text data (reviews) is significantly greater than that of the numeric data. Different training and test sets were used for part A and part B, so it is possible that some of the difference could be attributed to that. However, given the scale of the differences in accuracy between the numeric models and the text models, the results appear to be conclusive."
   ]
  },
  {
   "cell_type": "markdown",
   "metadata": {},
   "source": [
    "## Task C: Hybrid Model (Numeric and Text Data)"
   ]
  },
  {
   "cell_type": "markdown",
   "metadata": {},
   "source": [
    "### Approach:\n",
    "Finally, we will fit a model using both the numeric data and the text data. This model will be a hybrid of the multinomial naive bayes model that was fit on the text data and the logistic regression model that was fit on the numeric data. First, we will use the naive bayes model to calculate the probability that each review has a 'high' rating from the text data. Then, we will add this information as a column in our data set that contains all of the numeric data and fit a logistic regression model. We will use this new model to predict the same test set from part B and compare the results to see if the numeric data adds to the predictive power relative to the text."
   ]
  },
  {
   "cell_type": "markdown",
   "metadata": {},
   "source": [
    "### Hypothesis:\n",
    "Our hypothesis is that incorporating the numeric data will improve the accuracy of our model, but only marginally. We saw in part A that the numeric data alone has very little predictive power, so it seems unlikely that it will be able to add much to what we are already getting from the text data."
   ]
  },
  {
   "cell_type": "code",
   "execution_count": 64,
   "metadata": {
    "collapsed": true
   },
   "outputs": [],
   "source": [
    "# Create new training and test sets using same sample from part B\n",
    "x_trainC = trainB.drop(['stars', 'Review', 'rating'], axis=1)\n",
    "y_trainC = trainB['rating']\n",
    "\n",
    "x_testC = testB.drop(['stars', 'Review', 'rating'], axis=1)\n",
    "y_testC = testB['rating']"
   ]
  },
  {
   "cell_type": "code",
   "execution_count": 65,
   "metadata": {
    "collapsed": false
   },
   "outputs": [],
   "source": [
    "# Obtain probabilities of 'high' ratings from naive bayes model using text data\n",
    "train_scoresB = mnb_classifierB.predict_proba(x_trainB).tolist()\n",
    "test_scoresB = mnb_classifierB.predict_proba(x_testB).tolist()\n",
    "\n",
    "train_highScoresB = []\n",
    "train_lowScoresB = []\n",
    "for scorePair in train_scoresB:\n",
    "    train_highScoresB.append(scorePair[0])\n",
    "    train_lowScoresB.append(scorePair[1])\n",
    "\n",
    "test_highScoresB = []\n",
    "test_lowScoresB = []\n",
    "for scorePair in test_scoresB:\n",
    "    test_highScoresB.append(scorePair[0])\n",
    "    test_lowScoresB.append(scorePair[1])"
   ]
  },
  {
   "cell_type": "code",
   "execution_count": 66,
   "metadata": {
    "collapsed": false
   },
   "outputs": [],
   "source": [
    "# Add column of probabilities to training and test sets\n",
    "x_trainC['TextScore'] = train_highScoresB\n",
    "x_testC['TextScore'] = test_highScoresB"
   ]
  },
  {
   "cell_type": "code",
   "execution_count": 67,
   "metadata": {
    "collapsed": false
   },
   "outputs": [],
   "source": [
    "# Fit logistic regression model on training data\n",
    "logreg = linear_model.LogisticRegression()\n",
    "logreg_classifierC = logreg.fit(x_trainC, y_trainC)\n",
    "logreg_predictC = logreg_classifierC.predict(x_testC)"
   ]
  },
  {
   "cell_type": "code",
   "execution_count": 68,
   "metadata": {
    "collapsed": false
   },
   "outputs": [
    {
     "name": "stdout",
     "output_type": "stream",
     "text": [
      "Precision:0.860209135938\n",
      "Recall: 0.906086956522\n",
      "Accuracy: 0.8336\n"
     ]
    }
   ],
   "source": [
    "# Model Metrics\n",
    "print 'Precision:' + str(metrics.precision_score(y_testC, logreg_predictC, average = 'binary', pos_label='high'))\n",
    "print 'Recall: ' + str(metrics.recall_score(y_testC, logreg_predictC, average = 'binary', pos_label='high'))\n",
    "print 'Accuracy: ' + str(metrics.accuracy_score(y_testC, logreg_predictC))"
   ]
  },
  {
   "cell_type": "code",
   "execution_count": 69,
   "metadata": {
    "collapsed": false
   },
   "outputs": [
    {
     "data": {
      "text/plain": [
       "<matplotlib.text.Text at 0x10dc7390>"
      ]
     },
     "execution_count": 69,
     "metadata": {},
     "output_type": "execute_result"
    },
    {
     "data": {
      "image/png": "[encoded data removed]",
      "text/plain": [
       "<matplotlib.figure.Figure at 0x279f8e48>"
      ]
     },
     "metadata": {},
     "output_type": "display_data"
    }
   ],
   "source": [
    "# Fancy boy confusion matrix\n",
    "mat = metrics.confusion_matrix(y_testC, logreg_predictC)\n",
    "sns.heatmap(mat.T, square=True, annot=True, fmt='d', cbar=True, \n",
    "            xticklabels=unique(y_testC), yticklabels=unique(logreg_predictC))\n",
    "plt.xlabel('Actual Ratings')\n",
    "plt.ylabel('Predicted Ratings')\n",
    "plt.title('Logistic Regression')"
   ]
  },
  {
   "cell_type": "markdown",
   "metadata": {},
   "source": [
    "### Conclusion:\n",
    "The model incorporating both the text and numeric data predicted the test set with an accuracy of about 83.36%. As we hypothesized, this is only marginally better than the accuracy of our naive bayes model that was fit on the text data exclusively. It seems that the numeric data adds almost nothing to the predictive power relative to the text data. "
   ]
  },
  {
   "cell_type": "markdown",
   "metadata": {
    "collapsed": true
   },
   "source": [
    "## Task D: Unsupervised Sentiment Analysis"
   ]
  },
  {
   "cell_type": "code",
   "execution_count": 70,
   "metadata": {
    "collapsed": false
   },
   "outputs": [
    {
     "data": {
      "text/html": [
       "<div>\n",
       "<table border=\"1\" class=\"dataframe\">\n",
       "  <thead>\n",
       "    <tr style=\"text-align: right;\">\n",
       "      <th></th>\n",
       "      <th>0</th>\n",
       "      <th>1</th>\n",
       "      <th>2</th>\n",
       "      <th>3</th>\n",
       "      <th>4</th>\n",
       "      <th>5</th>\n",
       "      <th>6</th>\n",
       "      <th>7</th>\n",
       "      <th>8</th>\n",
       "      <th>9</th>\n",
       "      <th>...</th>\n",
       "      <th>13</th>\n",
       "      <th>14</th>\n",
       "      <th>15</th>\n",
       "      <th>16</th>\n",
       "      <th>17</th>\n",
       "      <th>18</th>\n",
       "      <th>19</th>\n",
       "      <th>20</th>\n",
       "      <th>21</th>\n",
       "      <th>22</th>\n",
       "    </tr>\n",
       "  </thead>\n",
       "  <tbody>\n",
       "    <tr>\n",
       "      <th>0</th>\n",
       "      <td>2</td>\n",
       "      <td>2</td>\n",
       "      <td>2</td>\n",
       "      <td>2</td>\n",
       "      <td>1</td>\n",
       "      <td>0</td>\n",
       "      <td>0</td>\n",
       "      <td>0</td>\n",
       "      <td>0</td>\n",
       "      <td>0</td>\n",
       "      <td>...</td>\n",
       "      <td>0</td>\n",
       "      <td>0</td>\n",
       "      <td>0</td>\n",
       "      <td>0</td>\n",
       "      <td>0</td>\n",
       "      <td>0</td>\n",
       "      <td>1</td>\n",
       "      <td>CLOSED            This JB s locati...</td>\n",
       "      <td>2</td>\n",
       "      <td>-2</td>\n",
       "    </tr>\n",
       "  </tbody>\n",
       "</table>\n",
       "<p>1 rows × 23 columns</p>\n",
       "</div>"
      ],
      "text/plain": [
       "   0   1   2   3   4   5   6   7   8   9  ...  13  14  15  16  17  18  19  \\\n",
       "0   2   2   2   2   1   0   0   0   0   0 ...   0   0   0   0   0   0   1   \n",
       "\n",
       "                                                  20  21  22  \n",
       "0              CLOSED            This JB s locati...   2  -2  \n",
       "\n",
       "[1 rows x 23 columns]"
      ]
     },
     "execution_count": 70,
     "metadata": {},
     "output_type": "execute_result"
    }
   ],
   "source": [
    "ss = pd.read_csv('YelpNoHeader+results.csv', header = None)\n",
    "ss.head(1)"
   ]
  },
  {
   "cell_type": "code",
   "execution_count": 71,
   "metadata": {
    "collapsed": true
   },
   "outputs": [],
   "source": [
    "ss['rating'] = np.where(ss[0] >= 4, 'high','low')"
   ]
  },
  {
   "cell_type": "code",
   "execution_count": 72,
   "metadata": {
    "collapsed": true
   },
   "outputs": [],
   "source": [
    "train, test = train_test_split(ss, test_size=0.25, random_state=123)\n",
    "\n",
    "x_train = train[21].reshape(-1,1)\n",
    "y_train = train['rating'].reshape(-1,1)\n",
    "\n",
    "x_test = test[21].reshape(-1,1)\n",
    "y_test = test['rating'].reshape(-1,1)"
   ]
  },
  {
   "cell_type": "code",
   "execution_count": 73,
   "metadata": {
    "collapsed": false
   },
   "outputs": [
    {
     "name": "stdout",
     "output_type": "stream",
     "text": [
      "Logistic Regression Accuracy: 0.7002\n"
     ]
    },
    {
     "name": "stderr",
     "output_type": "stream",
     "text": [
      "C:\\Users\\zack_\\Anaconda2\\lib\\site-packages\\sklearn\\utils\\validation.py:515: DataConversionWarning: A column-vector y was passed when a 1d array was expected. Please change the shape of y to (n_samples, ), for example using ravel().\n",
      "  y = column_or_1d(y, warn=True)\n"
     ]
    }
   ],
   "source": [
    "logreg = linear_model.LogisticRegression()\n",
    "logreg_classifier = logreg.fit(x_train, y_train)\n",
    "logreg_predict = logreg.predict(x_test)\n",
    "logreg_testAccuracy = logreg.score(x_test, y_test)\n",
    "\n",
    "print 'Logistic Regression Accuracy:', logreg_testAccuracy"
   ]
  },
  {
   "cell_type": "markdown",
   "metadata": {},
   "source": [
    "## Task E: PMI Approach"
   ]
  },
  {
   "cell_type": "code",
   "execution_count": 117,
   "metadata": {
    "collapsed": false
   },
   "outputs": [],
   "source": [
    "import nltk\n",
    "from nltk import word_tokenize\n",
    "from nltk.tokenize import RegexpTokenizer\n",
    "from nltk.util import bigrams\n",
    "from nltk import pos_tag\n",
    "import re\n",
    "from string import digits\n",
    "\n",
    "yelp_pmi = yelp[['rating','Review']].sample(5000, random_state=5)\n",
    "\n",
    "def tokenize(text):\n",
    "    text = text.decode('utf-8').strip()\n",
    "    text = re.sub(r'\\d+', '', text).lower()\n",
    "    return word_tokenize(text)\n",
    "\n",
    "# Tokenize all job descriptions from sample\n",
    "yelp_pmi['tokenized'] = yelp_pmi['Review'].apply(tokenize)\n",
    "yelp_pmi['combined_bigram'] = yelp_pmi['tokenized'].apply(lambda row: list(bigrams(pos_tag(row))))"
   ]
  },
  {
   "cell_type": "code",
   "execution_count": 118,
   "metadata": {
    "collapsed": true
   },
   "outputs": [],
   "source": [
    "#Drop 1 word reviews\n",
    "yelp_pmi = yelp_pmi[yelp_pmi['tokenized'].apply(len) > 1]"
   ]
  },
  {
   "cell_type": "code",
   "execution_count": 119,
   "metadata": {
    "collapsed": false
   },
   "outputs": [
    {
     "name": "stdout",
     "output_type": "stream",
     "text": [
      "Total Positive Words: 13052\n",
      "Total Negative Words: 1082\n"
     ]
    },
    {
     "data": {
      "text/html": [
       "<div>\n",
       "<table border=\"1\" class=\"dataframe\">\n",
       "  <thead>\n",
       "    <tr style=\"text-align: right;\">\n",
       "      <th></th>\n",
       "      <th>rating</th>\n",
       "      <th>Review</th>\n",
       "      <th>tokenized</th>\n",
       "      <th>combined_bigram</th>\n",
       "      <th>positive words</th>\n",
       "      <th>negative words</th>\n",
       "    </tr>\n",
       "  </thead>\n",
       "  <tbody>\n",
       "    <tr>\n",
       "      <th>2059</th>\n",
       "      <td>high</td>\n",
       "      <td>I ll be honest...I m not a food connoisseur  b...</td>\n",
       "      <td>[i, ll, be, honest, ..., i, m, not, a, food, c...</td>\n",
       "      <td>[((i, NN), (ll, VBP)), ((ll, VBP), (be, VB)), ...</td>\n",
       "      <td>2</td>\n",
       "      <td>0</td>\n",
       "    </tr>\n",
       "    <tr>\n",
       "      <th>12767</th>\n",
       "      <td>low</td>\n",
       "      <td>Made reservations for 5:30 PM on a Saturday ni...</td>\n",
       "      <td>[made, reservations, for, :, pm, on, a, saturd...</td>\n",
       "      <td>[((made, VBN), (reservations, NNS)), ((reserva...</td>\n",
       "      <td>9</td>\n",
       "      <td>0</td>\n",
       "    </tr>\n",
       "    <tr>\n",
       "      <th>8077</th>\n",
       "      <td>high</td>\n",
       "      <td>This place has an awesome Happy Hour. The envi...</td>\n",
       "      <td>[this, place, has, an, awesome, happy, hour, ....</td>\n",
       "      <td>[((this, DT), (place, NN)), ((place, NN), (has...</td>\n",
       "      <td>2</td>\n",
       "      <td>0</td>\n",
       "    </tr>\n",
       "    <tr>\n",
       "      <th>128</th>\n",
       "      <td>low</td>\n",
       "      <td>Noted on the OT reservation it was hubby s 50t...</td>\n",
       "      <td>[noted, on, the, ot, reservation, it, was, hub...</td>\n",
       "      <td>[((noted, VBN), (on, IN)), ((on, IN), (the, DT...</td>\n",
       "      <td>3</td>\n",
       "      <td>0</td>\n",
       "    </tr>\n",
       "    <tr>\n",
       "      <th>2084</th>\n",
       "      <td>high</td>\n",
       "      <td>Classy!!!</td>\n",
       "      <td>[classy, !, !, !]</td>\n",
       "      <td>[((classy, NN), (!, .)), ((!, .), (!, .)), ((!...</td>\n",
       "      <td>0</td>\n",
       "      <td>0</td>\n",
       "    </tr>\n",
       "  </tbody>\n",
       "</table>\n",
       "</div>"
      ],
      "text/plain": [
       "      rating                                             Review  \\\n",
       "2059    high  I ll be honest...I m not a food connoisseur  b...   \n",
       "12767    low  Made reservations for 5:30 PM on a Saturday ni...   \n",
       "8077    high  This place has an awesome Happy Hour. The envi...   \n",
       "128      low  Noted on the OT reservation it was hubby s 50t...   \n",
       "2084    high                                          Classy!!!   \n",
       "\n",
       "                                               tokenized  \\\n",
       "2059   [i, ll, be, honest, ..., i, m, not, a, food, c...   \n",
       "12767  [made, reservations, for, :, pm, on, a, saturd...   \n",
       "8077   [this, place, has, an, awesome, happy, hour, ....   \n",
       "128    [noted, on, the, ot, reservation, it, was, hub...   \n",
       "2084                                   [classy, !, !, !]   \n",
       "\n",
       "                                         combined_bigram  positive words  \\\n",
       "2059   [((i, NN), (ll, VBP)), ((ll, VBP), (be, VB)), ...               2   \n",
       "12767  [((made, VBN), (reservations, NNS)), ((reserva...               9   \n",
       "8077   [((this, DT), (place, NN)), ((place, NN), (has...               2   \n",
       "128    [((noted, VBN), (on, IN)), ((on, IN), (the, DT...               3   \n",
       "2084   [((classy, NN), (!, .)), ((!, .), (!, .)), ((!...               0   \n",
       "\n",
       "       negative words  \n",
       "2059                0  \n",
       "12767               0  \n",
       "8077                0  \n",
       "128                 0  \n",
       "2084                0  "
      ]
     },
     "execution_count": 119,
     "metadata": {},
     "output_type": "execute_result"
    }
   ],
   "source": [
    "#Positive & negative word lists\n",
    "positive_words = ['good', 'nice', 'great', 'awesome', 'outstanding', 'fantastic', 'terrific', 'like', 'love', 'excellent','clean']\n",
    "negative_words = ['poor', 'bad', 'terrible', 'crap', 'useless', 'hate', 'awful', 'disgusting', 'hated', 'gross','horrible','dirty']\n",
    "\n",
    "def word_match_count(text,word_list):\n",
    "    word_count = 0\n",
    "    for word in text:\n",
    "        if word in word_list:\n",
    "            word_count += 1\n",
    "    return word_count\n",
    "\n",
    "yelp_pmi['positive words'] = yelp_pmi['tokenized'].apply(lambda row: word_match_count(row,positive_words))\n",
    "yelp_pmi['negative words'] = yelp_pmi['tokenized'].apply(lambda row: word_match_count(row,negative_words))\n",
    "\n",
    "total_pos = yelp_pmi['positive words'].sum()\n",
    "total_neg = yelp_pmi['negative words'].sum()\n",
    "\n",
    "print \"Total Positive Words: \" + str(total_pos)\n",
    "print \"Total Negative Words: \" + str(total_neg)\n",
    "yelp_pmi.head()"
   ]
  },
  {
   "cell_type": "code",
   "execution_count": 120,
   "metadata": {
    "collapsed": false
   },
   "outputs": [
    {
     "data": {
      "text/html": [
       "<div>\n",
       "<table border=\"1\" class=\"dataframe\">\n",
       "  <thead>\n",
       "    <tr style=\"text-align: right;\">\n",
       "      <th></th>\n",
       "      <th>rating</th>\n",
       "      <th>Review</th>\n",
       "      <th>tokenized</th>\n",
       "      <th>positive words</th>\n",
       "      <th>negative words</th>\n",
       "      <th>combined_bigram</th>\n",
       "      <th>bigram</th>\n",
       "      <th>pos_bigram</th>\n",
       "    </tr>\n",
       "  </thead>\n",
       "  <tbody>\n",
       "    <tr>\n",
       "      <th>5</th>\n",
       "      <td>low</td>\n",
       "      <td>I ve always said if the guacamole  chips and s...</td>\n",
       "      <td>[i, ve, always, said, if, the, guacamole, chip...</td>\n",
       "      <td>3</td>\n",
       "      <td>0</td>\n",
       "      <td>((guacamole, JJ), (chips, NNS))</td>\n",
       "      <td>guacamole chips</td>\n",
       "      <td>JJ NNS</td>\n",
       "    </tr>\n",
       "    <tr>\n",
       "      <th>5</th>\n",
       "      <td>low</td>\n",
       "      <td>I ve always said if the guacamole  chips and s...</td>\n",
       "      <td>[i, ve, always, said, if, the, guacamole, chip...</td>\n",
       "      <td>3</td>\n",
       "      <td>0</td>\n",
       "      <td>((salsa, JJ), (aren, NNS))</td>\n",
       "      <td>salsa aren</td>\n",
       "      <td>JJ NNS</td>\n",
       "    </tr>\n",
       "    <tr>\n",
       "      <th>5</th>\n",
       "      <td>low</td>\n",
       "      <td>I ve always said if the guacamole  chips and s...</td>\n",
       "      <td>[i, ve, always, said, if, the, guacamole, chip...</td>\n",
       "      <td>3</td>\n",
       "      <td>0</td>\n",
       "      <td>((not, RB), (likely, JJ))</td>\n",
       "      <td>not likely</td>\n",
       "      <td>RB JJ</td>\n",
       "    </tr>\n",
       "    <tr>\n",
       "      <th>5</th>\n",
       "      <td>low</td>\n",
       "      <td>I ve always said if the guacamole  chips and s...</td>\n",
       "      <td>[i, ve, always, said, if, the, guacamole, chip...</td>\n",
       "      <td>3</td>\n",
       "      <td>0</td>\n",
       "      <td>((right, JJ), (guacamole, NN))</td>\n",
       "      <td>right guacamole</td>\n",
       "      <td>JJ NN</td>\n",
       "    </tr>\n",
       "    <tr>\n",
       "      <th>5</th>\n",
       "      <td>low</td>\n",
       "      <td>I ve always said if the guacamole  chips and s...</td>\n",
       "      <td>[i, ve, always, said, if, the, guacamole, chip...</td>\n",
       "      <td>3</td>\n",
       "      <td>0</td>\n",
       "      <td>((very, RB), (good, JJ))</td>\n",
       "      <td>very good</td>\n",
       "      <td>RB JJ</td>\n",
       "    </tr>\n",
       "  </tbody>\n",
       "</table>\n",
       "</div>"
      ],
      "text/plain": [
       "  rating                                             Review  \\\n",
       "5    low  I ve always said if the guacamole  chips and s...   \n",
       "5    low  I ve always said if the guacamole  chips and s...   \n",
       "5    low  I ve always said if the guacamole  chips and s...   \n",
       "5    low  I ve always said if the guacamole  chips and s...   \n",
       "5    low  I ve always said if the guacamole  chips and s...   \n",
       "\n",
       "                                           tokenized  positive words  \\\n",
       "5  [i, ve, always, said, if, the, guacamole, chip...               3   \n",
       "5  [i, ve, always, said, if, the, guacamole, chip...               3   \n",
       "5  [i, ve, always, said, if, the, guacamole, chip...               3   \n",
       "5  [i, ve, always, said, if, the, guacamole, chip...               3   \n",
       "5  [i, ve, always, said, if, the, guacamole, chip...               3   \n",
       "\n",
       "   negative words                  combined_bigram           bigram pos_bigram  \n",
       "5               0  ((guacamole, JJ), (chips, NNS))  guacamole chips     JJ NNS  \n",
       "5               0       ((salsa, JJ), (aren, NNS))       salsa aren     JJ NNS  \n",
       "5               0        ((not, RB), (likely, JJ))       not likely      RB JJ  \n",
       "5               0   ((right, JJ), (guacamole, NN))  right guacamole      JJ NN  \n",
       "5               0         ((very, RB), (good, JJ))        very good      RB JJ  "
      ]
     },
     "execution_count": 120,
     "metadata": {},
     "output_type": "execute_result"
    }
   ],
   "source": [
    "#Build table with record for each POS & Review\n",
    "yelp_pmi_pos = yelp_pmi.apply(lambda x: pd.Series(x['combined_bigram']),axis=1).stack().reset_index(level=1, drop=True)\n",
    "yelp_pmi_pos.name = 'combined_bigram'\n",
    "\n",
    "yelp_pmi_pos = yelp_pmi.drop('combined_bigram', axis=1).join(yelp_pmi_pos)\n",
    "\n",
    "yelp_pmi_pos['bigram'] = yelp_pmi_pos['combined_bigram'].apply(lambda row: [x[0] for x in row])\n",
    "yelp_pmi_pos['bigram'] = yelp_pmi_pos['bigram'].apply(lambda row: ' '.join(row))\n",
    "yelp_pmi_pos['pos_bigram'] = yelp_pmi_pos['combined_bigram'].apply(lambda row: [x[1] for x in row])\n",
    "yelp_pmi_pos['pos_bigram'] = yelp_pmi_pos['pos_bigram'].apply(lambda row: ' '.join(row))\n",
    "\n",
    "#Filter out invalid phrase POS combos\n",
    "pos_filter = ['JJ NN', 'JJ NNS', 'RB JJ', 'RBR JJ', 'RBS JJ', 'JJ JJ', 'NN JJ', 'NNS JJ', 'RB VB']\n",
    "yelp_pmi_pos = yelp_pmi_pos[yelp_pmi_pos['pos_bigram'].isin(pos_filter)]\n",
    "\n",
    "yelp_pmi_pos.head()"
   ]
  },
  {
   "cell_type": "code",
   "execution_count": 121,
   "metadata": {
    "collapsed": false
   },
   "outputs": [
    {
     "data": {
      "text/html": [
       "<div>\n",
       "<table border=\"1\" class=\"dataframe\">\n",
       "  <thead>\n",
       "    <tr style=\"text-align: right;\">\n",
       "      <th></th>\n",
       "      <th>positive words</th>\n",
       "      <th>negative words</th>\n",
       "    </tr>\n",
       "    <tr>\n",
       "      <th>bigram</th>\n",
       "      <th></th>\n",
       "      <th></th>\n",
       "    </tr>\n",
       "  </thead>\n",
       "  <tbody>\n",
       "    <tr>\n",
       "      <th>% abv</th>\n",
       "      <td>0</td>\n",
       "      <td>0</td>\n",
       "    </tr>\n",
       "    <tr>\n",
       "      <th>% asian</th>\n",
       "      <td>4</td>\n",
       "      <td>0</td>\n",
       "    </tr>\n",
       "    <tr>\n",
       "      <th>% delicious</th>\n",
       "      <td>2</td>\n",
       "      <td>0</td>\n",
       "    </tr>\n",
       "    <tr>\n",
       "      <th>% delish</th>\n",
       "      <td>3</td>\n",
       "      <td>2</td>\n",
       "    </tr>\n",
       "    <tr>\n",
       "      <th>% full</th>\n",
       "      <td>18</td>\n",
       "      <td>0</td>\n",
       "    </tr>\n",
       "  </tbody>\n",
       "</table>\n",
       "</div>"
      ],
      "text/plain": [
       "             positive words  negative words\n",
       "bigram                                     \n",
       "% abv                     0               0\n",
       "% asian                   4               0\n",
       "% delicious               2               0\n",
       "% delish                  3               2\n",
       "% full                   18               0"
      ]
     },
     "execution_count": 121,
     "metadata": {},
     "output_type": "execute_result"
    }
   ],
   "source": [
    "#Pivot to find total # of positive & negative words for each phrase\n",
    "POS_match = yelp_pmi_pos[['bigram','positive words','negative words']].groupby('bigram').sum()\n",
    "\n",
    "POS_match.head()"
   ]
  },
  {
   "cell_type": "code",
   "execution_count": 122,
   "metadata": {
    "collapsed": false
   },
   "outputs": [],
   "source": [
    "#Map number of positive & negative references back to table with unique line for each review + POS\n",
    "#Adjustment of .01 to avoid dividing by zero\n",
    "yelp_pmi_pos['POS_Positive'] = yelp_pmi_pos['bigram'].map(POS_match['positive words']) + .01\n",
    "yelp_pmi_pos['POS_Negative'] = yelp_pmi_pos['bigram'].map(POS_match['negative words']) + .01\n",
    "\n",
    "#Calculate Semantic Orientation of each phrase\n",
    "yelp_pmi_pos['Phrase S.O.'] = \\\n",
    "np.log2((yelp_pmi_pos['POS_Positive'].astype('float64') * total_neg)/(yelp_pmi_pos['POS_Negative'].astype('float64') * total_pos))"
   ]
  },
  {
   "cell_type": "code",
   "execution_count": 123,
   "metadata": {
    "collapsed": false
   },
   "outputs": [
    {
     "name": "stdout",
     "output_type": "stream",
     "text": [
      "Semantic Orientation Classification Accuracy: 0.696297803092\n"
     ]
    }
   ],
   "source": [
    "\n",
    "#Calculate semantic orientation at Review Level\n",
    "yelp_pmi_final = yelp_pmi_pos[['rating','Review','Phrase S.O.']].groupby(['rating','Review'])[['Phrase S.O.']].mean().reset_index()\n",
    "#Some reviews are lost - duplicate reviews???\n",
    "\n",
    "#Classify reviews\n",
    "\n",
    "yelp_pmi_final['S.O. Class'] = yelp_pmi_final['Phrase S.O.'].apply(lambda row: 'high' if row > 0 else 'low')\n",
    "yelp_pmi_final['S.O. Match'] = yelp_pmi_final['rating'] == yelp_pmi_final['S.O. Class']\n",
    "\n",
    "pmi_total_right = yelp_pmi_final['S.O. Match'][yelp_pmi_final['S.O. Match'] == True].count()\n",
    "pmi_total_wrong = yelp_pmi_final['S.O. Match'][yelp_pmi_final['S.O. Match'] == False].count()\n",
    "pmi_accuracy = pmi_total_right * 1.0 / (pmi_total_right + pmi_total_wrong)\n",
    "\n",
    "print \"Semantic Orientation Classification Accuracy: \" + str(pmi_accuracy)"
   ]
  },
  {
   "cell_type": "code",
   "execution_count": 124,
   "metadata": {
    "collapsed": false
   },
   "outputs": [
    {
     "name": "stdout",
     "output_type": "stream",
     "text": [
      "10 Most Positive Phrases:\n"
     ]
    },
    {
     "name": "stderr",
     "output_type": "stream",
     "text": [
      "C:\\Users\\zack_\\Anaconda2\\lib\\site-packages\\ipykernel\\__main__.py:2: FutureWarning: sort(columns=....) is deprecated, use sort_values(by=.....)\n",
      "  from ipykernel import kernelapp as app\n"
     ]
    },
    {
     "data": {
      "text/html": [
       "<div>\n",
       "<table border=\"1\" class=\"dataframe\">\n",
       "  <thead>\n",
       "    <tr style=\"text-align: right;\">\n",
       "      <th></th>\n",
       "      <th>bigram</th>\n",
       "      <th>Phrase S.O.</th>\n",
       "    </tr>\n",
       "  </thead>\n",
       "  <tbody>\n",
       "    <tr>\n",
       "      <th>17992</th>\n",
       "      <td>beckett s</td>\n",
       "      <td>9.695358</td>\n",
       "    </tr>\n",
       "    <tr>\n",
       "      <th>11042</th>\n",
       "      <td>great deal</td>\n",
       "      <td>9.494467</td>\n",
       "    </tr>\n",
       "    <tr>\n",
       "      <th>11634</th>\n",
       "      <td>not disappoint</td>\n",
       "      <td>9.117662</td>\n",
       "    </tr>\n",
       "    <tr>\n",
       "      <th>156</th>\n",
       "      <td>modern tiki</td>\n",
       "      <td>9.095970</td>\n",
       "    </tr>\n",
       "    <tr>\n",
       "      <th>19842</th>\n",
       "      <td>always fresh</td>\n",
       "      <td>9.051583</td>\n",
       "    </tr>\n",
       "    <tr>\n",
       "      <th>6119</th>\n",
       "      <td>new restaurant</td>\n",
       "      <td>9.051583</td>\n",
       "    </tr>\n",
       "    <tr>\n",
       "      <th>5437</th>\n",
       "      <td>nick s</td>\n",
       "      <td>9.028867</td>\n",
       "    </tr>\n",
       "    <tr>\n",
       "      <th>6156</th>\n",
       "      <td>great spot</td>\n",
       "      <td>8.884501</td>\n",
       "    </tr>\n",
       "    <tr>\n",
       "      <th>15511</th>\n",
       "      <td>fried okra</td>\n",
       "      <td>8.832980</td>\n",
       "    </tr>\n",
       "    <tr>\n",
       "      <th>6107</th>\n",
       "      <td>last weekend</td>\n",
       "      <td>8.832980</td>\n",
       "    </tr>\n",
       "  </tbody>\n",
       "</table>\n",
       "</div>"
      ],
      "text/plain": [
       "               bigram  Phrase S.O.\n",
       "17992       beckett s     9.695358\n",
       "11042      great deal     9.494467\n",
       "11634  not disappoint     9.117662\n",
       "156       modern tiki     9.095970\n",
       "19842    always fresh     9.051583\n",
       "6119   new restaurant     9.051583\n",
       "5437           nick s     9.028867\n",
       "6156       great spot     8.884501\n",
       "15511      fried okra     8.832980\n",
       "6107     last weekend     8.832980"
      ]
     },
     "execution_count": 124,
     "metadata": {},
     "output_type": "execute_result"
    }
   ],
   "source": [
    "print \"10 Most Positive Phrases:\"\n",
    "yelp_pmi_pos[['bigram','Phrase S.O.']].sort(['Phrase S.O.'], ascending=0).drop_duplicates().head(10)"
   ]
  },
  {
   "cell_type": "code",
   "execution_count": 125,
   "metadata": {
    "collapsed": false
   },
   "outputs": [
    {
     "name": "stdout",
     "output_type": "stream",
     "text": [
      "10 Most Negative Phrases\n"
     ]
    },
    {
     "name": "stderr",
     "output_type": "stream",
     "text": [
      "C:\\Users\\zack_\\Anaconda2\\lib\\site-packages\\ipykernel\\__main__.py:3: FutureWarning: sort(columns=....) is deprecated, use sort_values(by=.....)\n",
      "  app.launch_new_instance()\n"
     ]
    },
    {
     "data": {
      "text/html": [
       "<div>\n",
       "<table border=\"1\" class=\"dataframe\">\n",
       "  <thead>\n",
       "    <tr style=\"text-align: right;\">\n",
       "      <th></th>\n",
       "      <th>bigram</th>\n",
       "      <th>Phrase S.O.</th>\n",
       "    </tr>\n",
       "  </thead>\n",
       "  <tbody>\n",
       "    <tr>\n",
       "      <th>2961</th>\n",
       "      <td>arby s</td>\n",
       "      <td>-12.823720</td>\n",
       "    </tr>\n",
       "    <tr>\n",
       "      <th>3135</th>\n",
       "      <td>new staff</td>\n",
       "      <td>-12.561165</td>\n",
       "    </tr>\n",
       "    <tr>\n",
       "      <th>8089</th>\n",
       "      <td>simple sandwich</td>\n",
       "      <td>-12.239957</td>\n",
       "    </tr>\n",
       "    <tr>\n",
       "      <th>8089</th>\n",
       "      <td>simple turkey</td>\n",
       "      <td>-12.239957</td>\n",
       "    </tr>\n",
       "    <tr>\n",
       "      <th>8089</th>\n",
       "      <td>subway style</td>\n",
       "      <td>-12.239957</td>\n",
       "    </tr>\n",
       "    <tr>\n",
       "      <th>8089</th>\n",
       "      <td>terrible airport</td>\n",
       "      <td>-12.239957</td>\n",
       "    </tr>\n",
       "    <tr>\n",
       "      <th>10824</th>\n",
       "      <td>flemings ruths</td>\n",
       "      <td>-11.826118</td>\n",
       "    </tr>\n",
       "    <tr>\n",
       "      <th>10824</th>\n",
       "      <td>fellow dining</td>\n",
       "      <td>-11.826118</td>\n",
       "    </tr>\n",
       "    <tr>\n",
       "      <th>10824</th>\n",
       "      <td>somewhat gritty</td>\n",
       "      <td>-11.826118</td>\n",
       "    </tr>\n",
       "    <tr>\n",
       "      <th>18628</th>\n",
       "      <td>nearby table</td>\n",
       "      <td>-11.826118</td>\n",
       "    </tr>\n",
       "  </tbody>\n",
       "</table>\n",
       "</div>"
      ],
      "text/plain": [
       "                 bigram  Phrase S.O.\n",
       "2961             arby s   -12.823720\n",
       "3135          new staff   -12.561165\n",
       "8089    simple sandwich   -12.239957\n",
       "8089      simple turkey   -12.239957\n",
       "8089       subway style   -12.239957\n",
       "8089   terrible airport   -12.239957\n",
       "10824    flemings ruths   -11.826118\n",
       "10824     fellow dining   -11.826118\n",
       "10824   somewhat gritty   -11.826118\n",
       "18628      nearby table   -11.826118"
      ]
     },
     "execution_count": 125,
     "metadata": {},
     "output_type": "execute_result"
    }
   ],
   "source": [
    "print \"10 Most Negative Phrases\"\n",
    "yelp_pmi_pos[['bigram','Phrase S.O.']].sort(['Phrase S.O.']).drop_duplicates().head(10)"
   ]
  },
  {
   "cell_type": "markdown",
   "metadata": {},
   "source": [
    "### Part F"
   ]
  },
  {
   "cell_type": "code",
   "execution_count": null,
   "metadata": {
    "collapsed": true
   },
   "outputs": [],
   "source": []
  }
 ],
 "metadata": {
  "kernelspec": {
   "display_name": "Python 2",
   "language": "python",
   "name": "python2"
  },
  "language_info": {
   "codemirror_mode": {
    "name": "ipython",
    "version": 2
   },
   "file_extension": ".py",
   "mimetype": "text/x-python",
   "name": "python",
   "nbconvert_exporter": "python",
   "pygments_lexer": "ipython2",
   "version": "2.7.12"
  }
 },
 "nbformat": 4,
 "nbformat_minor": 0
}
