{
 "cells": [
  {
   "cell_type": "code",
   "execution_count": 2,
   "metadata": {
    "collapsed": false
   },
   "outputs": [
    {
     "name": "stdout",
     "output_type": "stream",
     "text": [
      "Populating the interactive namespace from numpy and matplotlib\n"
     ]
    }
   ],
   "source": [
    "import math\n",
    "from sklearn.feature_extraction.text import CountVectorizer\n",
    "from nltk.tokenize import RegexpTokenizer\n",
    "from nltk.corpus import stopwords\n",
    "\n",
    "from pandas import Series, DataFrame\n",
    "import pandas as pd\n",
    "import nltk\n",
    "%pylab inline \n"
   ]
  },
  {
   "cell_type": "markdown",
   "metadata": {},
   "source": [
    "## Part A (Basic Text Mining)"
   ]
  },
  {
   "cell_type": "code",
   "execution_count": 3,
   "metadata": {
    "collapsed": false
   },
   "outputs": [],
   "source": [
    "jobs = pd.read_csv(\"../Data/train_rev1.csv\") # 244,768 records\n",
    "jobs_sample = jobs.sample(1000) # 1,000 records"
   ]
  },
  {
   "cell_type": "code",
   "execution_count": 4,
   "metadata": {
    "collapsed": false
   },
   "outputs": [],
   "source": [
    "tokenizer = RegexpTokenizer(r'\\w+') #Tokenizes and removes punctuation\n",
    "\n",
    "#Strip and decode FullDescription column so we can tokenize it\n",
    "jobs_sample['tokenized_strip'] = jobs_sample.apply(lambda row: row['FullDescription'].decode('utf-8').strip(),axis=1)\n",
    "jobs_sample['tokenized'] = jobs_sample.apply(lambda row: tokenizer.tokenize(row['tokenized_strip']),axis=1)\n",
    "jobs_sample['PoS'] = jobs_sample.apply(lambda row: nltk.pos_tag(row['tokenized']), axis=1)"
   ]
  },
  {
   "cell_type": "code",
   "execution_count": 5,
   "metadata": {
    "collapsed": false
   },
   "outputs": [],
   "source": [
    "#Combine each row of tokens into one list\n",
    "tokens_series = pd.Series(jobs_sample['tokenized'])\n",
    "tokens_list = tokens_series.tolist()\n",
    "\n",
    "tokens = []\n",
    "for sentence in tokens_list:\n",
    "    for word in sentence:\n",
    "        tokens.append(word)"
   ]
  },
  {
   "cell_type": "code",
   "execution_count": 6,
   "metadata": {
    "collapsed": false
   },
   "outputs": [],
   "source": [
    "#Run pos_tag on full list of tokens now\n",
    "tokens_pos = nltk.pos_tag(tokens)"
   ]
  },
  {
   "cell_type": "markdown",
   "metadata": {},
   "source": [
    "### A1. Top 5 Parts of Speech in Corpus"
   ]
  },
  {
   "cell_type": "code",
   "execution_count": 7,
   "metadata": {
    "collapsed": false
   },
   "outputs": [
    {
     "data": {
      "text/plain": [
       "[('NN', 45339), ('NNP', 36422), ('IN', 26604), ('JJ', 21280), ('DT', 20057)]"
      ]
     },
     "execution_count": 7,
     "metadata": {},
     "output_type": "execute_result"
    }
   ],
   "source": [
    "#Unzips the tuples\n",
    "from nltk import FreqDist\n",
    "words, pos = zip(*tokens_pos)\n",
    "pos_freq = FreqDist(pos)\n",
    "pos_freq.most_common()[:5] #Most frequent POS's\n",
    "\n",
    "## NN corresponds to noun\n",
    "## NNP corresponds to proper noun, singular\n",
    "## IN corresponds to preposition or subordinating conjunction\n",
    "## JJ corresponds to adjective\n",
    "## DT corresponds to determiner\n",
    "## https://www.ling.upenn.edu/courses/Fall_2003/ling001/penn_treebank_pos.html"
   ]
  },
  {
   "cell_type": "markdown",
   "metadata": {},
   "source": [
    "### Most Common POS' Frequencies"
   ]
  },
  {
   "cell_type": "code",
   "execution_count": 8,
   "metadata": {
    "collapsed": false
   },
   "outputs": [
    {
     "name": "stdout",
     "output_type": "stream",
     "text": [
      "NN 0.182444096592\n",
      "NNP 0.146562096343\n",
      "IN 0.107054472876\n",
      "JJ 0.0856307015038\n",
      "DT 0.0807093505668\n"
     ]
    }
   ],
   "source": [
    "for a, b in pos_freq.most_common()[:5]:\n",
    "    print a, b * 1.0 / len(pos) * 1.0 #Most common POS' frequencies"
   ]
  },
  {
   "cell_type": "markdown",
   "metadata": {},
   "source": [
    "### A2. Zipf's Law, 100 Most Common Words¶\n"
   ]
  },
  {
   "cell_type": "code",
   "execution_count": 9,
   "metadata": {
    "collapsed": false
   },
   "outputs": [
    {
     "data": {
      "text/plain": [
       "<matplotlib.text.Text at 0x18a12320>"
      ]
     },
     "execution_count": 9,
     "metadata": {},
     "output_type": "execute_result"
    },
    {
     "data": {
      "image/png": "[encoded data removed]",
      "text/plain": [
       "<matplotlib.figure.Figure at 0x33e70780>"
      ]
     },
     "metadata": {},
     "output_type": "display_data"
    }
   ],
   "source": [
    "words_lower = []\n",
    "for word in words:\n",
    "    words_lower.append(word.lower())\n",
    "    \n",
    "word_freq = FreqDist(words_lower)\n",
    "most_common_words = word_freq.most_common()[:100]\n",
    "\n",
    "n = most_common_words[0][1]\n",
    "nums = []\n",
    "nums.append(n)\n",
    "counter = 1\n",
    "while len(nums) < 100:\n",
    "    counter += 1\n",
    "    nums.append(n * (1.0/counter))\n",
    "\n",
    "\n",
    "# Plot actual frequencies and Zipf frequencies\n",
    "plot([b for (a,b) in most_common_words], label = 'Word Frequency') # Blue\n",
    "plot(nums, label = 'Zipf Predicted Frequency') # Green\n",
    "legend(loc='best')\n",
    "xlabel('Rank')\n",
    "ylabel('Frequency')"
   ]
  },
  {
   "cell_type": "markdown",
   "metadata": {},
   "source": [
    "### Top 10 Words after Stemming and Removing Stop Words"
   ]
  },
  {
   "cell_type": "code",
   "execution_count": 10,
   "metadata": {
    "collapsed": true
   },
   "outputs": [],
   "source": [
    "filtered_words = [word for word in words_lower if word not in stopwords.words('english')]\n",
    "from nltk.stem.porter import PorterStemmer\n",
    "PS = PorterStemmer()\n",
    "\n",
    "stem_words = []\n",
    "\n",
    "for word in filtered_words:\n",
    "    stem_word = PS.stem(word)\n",
    "    stem_words.append(stem_word)"
   ]
  },
  {
   "cell_type": "code",
   "execution_count": 11,
   "metadata": {
    "collapsed": false
   },
   "outputs": [
    {
     "data": {
      "text/plain": [
       "[(u'work', 2155),\n",
       " (u'manag', 2114),\n",
       " (u'experi', 1714),\n",
       " (u'develop', 1281),\n",
       " (u'role', 1276),\n",
       " (u'team', 1223),\n",
       " (u'busi', 1158),\n",
       " (u'client', 1152),\n",
       " (u'requir', 1018),\n",
       " (u'skill', 1013)]"
      ]
     },
     "execution_count": 11,
     "metadata": {},
     "output_type": "execute_result"
    }
   ],
   "source": [
    "# Find 10 most frequent words\n",
    "words_freq_no_stops = nltk.FreqDist(stem_words)\n",
    "top10_words = words_freq_no_stops.most_common()[:10]\n",
    "\n",
    "top10_words"
   ]
  },
  {
   "cell_type": "markdown",
   "metadata": {},
   "source": [
    "# Part B"
   ]
  },
  {
   "cell_type": "code",
   "execution_count": 12,
   "metadata": {
    "collapsed": false
   },
   "outputs": [
    {
     "data": {
      "text/html": [
       "<div>\n",
       "<table border=\"1\" class=\"dataframe\">\n",
       "  <thead>\n",
       "    <tr style=\"text-align: right;\">\n",
       "      <th></th>\n",
       "      <th>FullDescription</th>\n",
       "      <th>SalaryNormalized</th>\n",
       "      <th>salary_class</th>\n",
       "    </tr>\n",
       "  </thead>\n",
       "  <tbody>\n",
       "    <tr>\n",
       "      <th>156772</th>\n",
       "      <td>TM1 Consultant / TM1 Developer  Hampshire / Be...</td>\n",
       "      <td>54999</td>\n",
       "      <td>high</td>\n",
       "    </tr>\n",
       "    <tr>\n",
       "      <th>139012</th>\n",
       "      <td>We are currently recruiting on behalf of a lar...</td>\n",
       "      <td>28000</td>\n",
       "      <td>low</td>\n",
       "    </tr>\n",
       "    <tr>\n",
       "      <th>151925</th>\n",
       "      <td>Senior Network Engineer, Cisco, Juniper, Route...</td>\n",
       "      <td>75000</td>\n",
       "      <td>high</td>\n",
       "    </tr>\n",
       "    <tr>\n",
       "      <th>10510</th>\n",
       "      <td>Permanent Accounts Payable  City Centre Client...</td>\n",
       "      <td>17000</td>\n",
       "      <td>low</td>\n",
       "    </tr>\n",
       "    <tr>\n",
       "      <th>42809</th>\n",
       "      <td>The research of the Clinical Epidemiology Grou...</td>\n",
       "      <td>35753</td>\n",
       "      <td>low</td>\n",
       "    </tr>\n",
       "  </tbody>\n",
       "</table>\n",
       "</div>"
      ],
      "text/plain": [
       "                                          FullDescription  SalaryNormalized  \\\n",
       "156772  TM1 Consultant / TM1 Developer  Hampshire / Be...             54999   \n",
       "139012  We are currently recruiting on behalf of a lar...             28000   \n",
       "151925  Senior Network Engineer, Cisco, Juniper, Route...             75000   \n",
       "10510   Permanent Accounts Payable  City Centre Client...             17000   \n",
       "42809   The research of the Clinical Epidemiology Grou...             35753   \n",
       "\n",
       "       salary_class  \n",
       "156772         high  \n",
       "139012          low  \n",
       "151925         high  \n",
       "10510           low  \n",
       "42809           low  "
      ]
     },
     "execution_count": 12,
     "metadata": {},
     "output_type": "execute_result"
    }
   ],
   "source": [
    "import numpy as np\n",
    "\n",
    "jobs_b = jobs[['FullDescription', 'SalaryNormalized']]\n",
    "jobs_b_sample = jobs_b.sample(50000)\n",
    "#Create new classifier for job posting salaries in the top quartile\n",
    "sal_75 = jobs_b_sample['SalaryNormalized'].quantile(.75)\n",
    "\n",
    "jobs_b_sample['salary_class'] = np.where(jobs_b_sample['SalaryNormalized']>=sal_75,'high','low')\n",
    "\n",
    "jobs_b_sample.head()"
   ]
  },
  {
   "cell_type": "code",
   "execution_count": 13,
   "metadata": {
    "collapsed": false
   },
   "outputs": [],
   "source": [
    "descriptions = []\n",
    "pay = []\n",
    "\n",
    "for index, value in jobs_b_sample.iterrows():\n",
    "    descriptions.append(value['FullDescription'])\n",
    "    pay.append(value['salary_class'])\n"
   ]
  },
  {
   "cell_type": "code",
   "execution_count": 14,
   "metadata": {
    "collapsed": false
   },
   "outputs": [],
   "source": [
    "#Split data into test/training set\n",
    "trainset_size = int(round(len(jobs_b_sample)*0.75))\n",
    "\n",
    "X_train = np.array([''.join(el) for el in descriptions[0:trainset_size]])\n",
    "y_train = np.array([el for el in pay[0:trainset_size]])\n",
    "\n",
    "X_test = np.array([''.join(el) for el in descriptions[trainset_size+1:len(descriptions)]]) \n",
    "y_test = np.array([el for el in pay[trainset_size+1:len(pay)]]) "
   ]
  },
  {
   "cell_type": "code",
   "execution_count": 15,
   "metadata": {
    "collapsed": true
   },
   "outputs": [],
   "source": [
    "from sklearn.feature_extraction.text import CountVectorizer\n",
    "\n",
    "vectorizer = CountVectorizer(analyzer = \"word\",   \\\n",
    "                             tokenizer = None,    \\\n",
    "                             preprocessor = None, \\\n",
    "                             stop_words = None,   \\\n",
    "                             max_features = None)\n",
    "\n",
    "X_train = vectorizer.fit_transform(X_train)\n",
    "X_test = vectorizer.transform(X_test)"
   ]
  },
  {
   "cell_type": "code",
   "execution_count": 16,
   "metadata": {
    "collapsed": true
   },
   "outputs": [],
   "source": [
    "from sklearn.naive_bayes import MultinomialNB\n",
    "\n",
    "#Run Naive Bayes Classifier\n",
    "nb_classifier = MultinomialNB().fit(X_train, y_train)\n",
    "\n",
    "y_nb_predicted = nb_classifier.predict(X_test)"
   ]
  },
  {
   "cell_type": "code",
   "execution_count": 17,
   "metadata": {
    "collapsed": false
   },
   "outputs": [
    {
     "name": "stdout",
     "output_type": "stream",
     "text": [
      "Precision:0.569949378739\n",
      "Recall: 0.770211442786\n",
      "Accuracy: 0.791343307465\n"
     ]
    },
    {
     "name": "stderr",
     "output_type": "stream",
     "text": [
      "C:\\Users\\zack_\\Anaconda2\\lib\\site-packages\\sklearn\\metrics\\classification.py:976: DeprecationWarning: From version 0.18, binary input will not be handled specially when using averaged precision/recall/F-score. Please use average='binary' to report only the positive class performance.\n",
      "  'positive class performance.', DeprecationWarning)\n",
      "C:\\Users\\zack_\\Anaconda2\\lib\\site-packages\\sklearn\\metrics\\classification.py:976: DeprecationWarning: From version 0.18, binary input will not be handled specially when using averaged precision/recall/F-score. Please use average='binary' to report only the positive class performance.\n",
      "  'positive class performance.', DeprecationWarning)\n"
     ]
    }
   ],
   "source": [
    "from sklearn import metrics\n",
    "print 'Precision:' + str(metrics.precision_score(y_test, y_nb_predicted, average = 'micro', pos_label='high'))\n",
    "print 'Recall: ' + str(metrics.recall_score(y_test, y_nb_predicted, average = 'micro', pos_label='high'))\n",
    "print 'Accuracy: ' + str(metrics.accuracy_score(y_test, y_nb_predicted))"
   ]
  },
  {
   "cell_type": "code",
   "execution_count": 18,
   "metadata": {
    "collapsed": false
   },
   "outputs": [
    {
     "name": "stderr",
     "output_type": "stream",
     "text": [
      "C:\\Users\\zack_\\Anaconda2\\lib\\site-packages\\seaborn\\matrix.py:134: FutureWarning: elementwise comparison failed; returning scalar instead, but in the future will perform elementwise comparison\n",
      "  if xticklabels == []:\n",
      "C:\\Users\\zack_\\Anaconda2\\lib\\site-packages\\seaborn\\matrix.py:142: FutureWarning: elementwise comparison failed; returning scalar instead, but in the future will perform elementwise comparison\n",
      "  if yticklabels == []:\n"
     ]
    },
    {
     "data": {
      "image/png": "[encoded data removed]",
      "text/plain": [
       "<matplotlib.figure.Figure at 0x1b5c8f60>"
      ]
     },
     "metadata": {},
     "output_type": "display_data"
    }
   ],
   "source": [
    "#Fancy boy confusion matrix\n",
    "import seaborn as sns; sns.set()\n",
    "\n",
    "mat = metrics.confusion_matrix(y_test, y_nb_predicted)\n",
    "sns.heatmap(mat.T, square=True, annot=True, fmt='d', cbar=True,\n",
    "            xticklabels=unique(pay), yticklabels=unique(pay))\n",
    "plt.xlabel('Actual Salary Level')\n",
    "plt.ylabel('Predicted Salary Level');"
   ]
  },
  {
   "cell_type": "markdown",
   "metadata": {},
   "source": [
    "### B2\n"
   ]
  },
  {
   "cell_type": "markdown",
   "metadata": {},
   "source": [
    "### B3"
   ]
  },
  {
   "cell_type": "code",
   "execution_count": 19,
   "metadata": {
    "collapsed": true
   },
   "outputs": [],
   "source": [
    "#Split data into test/training set\n",
    "trainset_size = int(round(len(jobs_b_sample)*0.75))\n",
    "\n",
    "X_train = np.array([''.join(el) for el in descriptions[0:trainset_size]])\n",
    "y_train = np.array([el for el in pay[0:trainset_size]])\n",
    "\n",
    "X_test = np.array([''.join(el) for el in descriptions[trainset_size+1:len(descriptions)]]) \n",
    "y_test = np.array([el for el in pay[trainset_size+1:len(pay)]]) "
   ]
  },
  {
   "cell_type": "code",
   "execution_count": 20,
   "metadata": {
    "collapsed": false
   },
   "outputs": [
    {
     "name": "stdout",
     "output_type": "stream",
     "text": [
      "Precision:0.551524259339\n",
      "Recall: 0.79881840796\n",
      "Accuracy: 0.781102488199\n"
     ]
    }
   ],
   "source": [
    "vectorizer = CountVectorizer(analyzer = \"word\",   \\\n",
    "                             tokenizer = None,    \\\n",
    "                             preprocessor = None, \\\n",
    "                             stop_words = 'english',   \\\n",
    "                             max_features = 10000)\n",
    "\n",
    "X_train = vectorizer.fit_transform(X_train)\n",
    "X_test = vectorizer.transform(X_test)\n",
    "\n",
    "#Run Naive Bayes Classifier\n",
    "nb_classifier = MultinomialNB().fit(X_train, y_train)\n",
    "\n",
    "y_nb_predicted = nb_classifier.predict(X_test)\n",
    "\n",
    "print 'Precision:' + str(metrics.precision_score(y_test, y_nb_predicted, average = 'binary', pos_label='high'))\n",
    "print 'Recall: ' + str(metrics.recall_score(y_test, y_nb_predicted, average = 'binary', pos_label='high'))\n",
    "print 'Accuracy: ' + str(metrics.accuracy_score(y_test, y_nb_predicted))"
   ]
  },
  {
   "cell_type": "code",
   "execution_count": 21,
   "metadata": {
    "collapsed": true
   },
   "outputs": [],
   "source": [
    "\n",
    "def most_informative_features(vectorizer, classifier, n=10):\n",
    "    class_labels = classifier.classes_\n",
    "    feature_names = vectorizer.get_feature_names()\n",
    "    topn_class1 = sorted(zip(classifier.coef_[0], feature_names))[:n]\n",
    "    topn_class2 = sorted(zip(classifier.coef_[0], feature_names))[-n:]\n",
    "\n",
    "    for coef, feat in topn_class1:\n",
    "        print class_labels[0], coef, feat\n",
    "\n",
    "    print\n",
    "\n",
    "    for coef, feat in reversed(topn_class2):\n",
    "        print class_labels[1], coef, feat"
   ]
  },
  {
   "cell_type": "code",
   "execution_count": 22,
   "metadata": {
    "collapsed": false
   },
   "outputs": [
    {
     "name": "stdout",
     "output_type": "stream",
     "text": [
      "high -15.1509033901 9632\n",
      "high -15.1509033901 actuary\n",
      "high -15.1509033901 clas\n",
      "high -15.1509033901 etrm\n",
      "high -15.1509033901 murex\n",
      "high -15.1509033901 netezza\n",
      "high -15.1509033901 pega\n",
      "high -15.1509033901 tm1\n",
      "high -14.4577562095 biostatistics\n",
      "high -14.4577562095 ccse\n",
      "\n",
      "low -4.43453197535 experience\n",
      "low -4.75442837188 work\n",
      "low -4.77273566039 role\n",
      "low -4.85594823905 team\n",
      "low -4.97411163301 skills\n",
      "low -4.98332229987 sales\n",
      "low -5.0030588898 working\n",
      "low -5.01547113025 business\n",
      "low -5.18636777595 client\n",
      "low -5.22540975725 company\n"
     ]
    }
   ],
   "source": [
    "most_informative_features(vectorizer, nb_classifier)"
   ]
  },
  {
   "cell_type": "markdown",
   "metadata": {},
   "source": [
    "### B4"
   ]
  },
  {
   "cell_type": "code",
   "execution_count": 23,
   "metadata": {
    "collapsed": true
   },
   "outputs": [],
   "source": [
    "#Split data into test/training set\n",
    "trainset_size = int(round(len(jobs_b_sample)*0.75))\n",
    "\n",
    "X_train = np.array([''.join(el) for el in descriptions[0:trainset_size]])\n",
    "y_train = np.array([el for el in pay[0:trainset_size]])\n",
    "\n",
    "X_test = np.array([''.join(el) for el in descriptions[trainset_size+1:len(descriptions)]]) \n",
    "y_test = np.array([el for el in pay[trainset_size+1:len(pay)]]) "
   ]
  },
  {
   "cell_type": "code",
   "execution_count": null,
   "metadata": {
    "collapsed": true
   },
   "outputs": [],
   "source": []
  }
 ],
 "metadata": {
  "anaconda-cloud": {},
  "kernelspec": {
   "display_name": "Python 2",
   "language": "python",
   "name": "python2"
  },
  "language_info": {
   "codemirror_mode": {
    "name": "ipython",
    "version": 2
   },
   "file_extension": ".py",
   "mimetype": "text/x-python",
   "name": "python",
   "nbconvert_exporter": "python",
   "pygments_lexer": "ipython2",
   "version": "2.7.12"
  }
 },
 "nbformat": 4,
 "nbformat_minor": 0
}
