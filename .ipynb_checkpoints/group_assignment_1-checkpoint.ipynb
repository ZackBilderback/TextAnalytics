{
 "cells": [
  {
   "cell_type": "code",
   "execution_count": 1,
   "metadata": {
    "collapsed": false
   },
   "outputs": [],
   "source": [
    "import nltk\n",
    "from nltk import *\n",
    "import pandas as pd\n",
    "import matplotlib.pyplot as plt\n",
    "%matplotlib inline \n",
    "import math\n",
    "import numpy as np\n",
    "from sklearn.feature_extraction.text import CountVectorizer"
   ]
  },
  {
   "cell_type": "code",
   "execution_count": 3,
   "metadata": {
    "collapsed": false
   },
   "outputs": [],
   "source": [
    "jobs = pd.read_csv(\"../Data/train_rev1.csv\") # 244,768 records\n",
    "jobs_sample = jobs.sample(1000) # 1,000 records"
   ]
  },
  {
   "cell_type": "code",
   "execution_count": 4,
   "metadata": {
    "collapsed": false
   },
   "outputs": [],
   "source": [
    "jobs_sample['tokenized_strip'] = jobs_sample.apply(lambda row: row['FullDescription'].decode('utf-8').strip(),axis=1)\n",
    "jobs_sample['tokenized'] = jobs_sample.apply(lambda row: nltk.word_tokenize(row['tokenized_strip']),axis=1)"
   ]
  },
  {
   "cell_type": "code",
   "execution_count": 5,
   "metadata": {
    "collapsed": false
   },
   "outputs": [],
   "source": [
    "tokens_series = pd.Series(jobs_sample['tokenized'])\n",
    "tokens_list = tokens_series.tolist()\n",
    "\n",
    "tokens = []\n",
    "for sentence in tokens_list:\n",
    "    for word in sentence:\n",
    "        tokens.append(word)"
   ]
  },
  {
   "cell_type": "code",
   "execution_count": 6,
   "metadata": {
    "collapsed": false
   },
   "outputs": [],
   "source": [
    "tokens_pos = nltk.pos_tag(tokens)"
   ]
  },
  {
   "cell_type": "markdown",
   "metadata": {},
   "source": [
    "### Most Common POS"
   ]
  },
  {
   "cell_type": "code",
   "execution_count": 7,
   "metadata": {
    "collapsed": false
   },
   "outputs": [
    {
     "data": {
      "text/plain": [
       "[('NN', 45587), ('NNP', 34470), ('IN', 25823), ('JJ', 21877), ('DT', 20158)]"
      ]
     },
     "execution_count": 7,
     "metadata": {},
     "output_type": "execute_result"
    }
   ],
   "source": [
    "words, pos = zip(*tokens_pos) # Unzip\n",
    "pos_freq = FreqDist(pos)\n",
    "pos_freq.most_common()[:5] #Most frequent POS's"
   ]
  },
  {
   "cell_type": "markdown",
   "metadata": {},
   "source": [
    "### Most Common POS' Frequencies"
   ]
  },
  {
   "cell_type": "code",
   "execution_count": 8,
   "metadata": {
    "collapsed": false
   },
   "outputs": [
    {
     "name": "stdout",
     "output_type": "stream",
     "text": [
      "NN 0.169177843258\n",
      "NNP 0.127921562224\n",
      "IN 0.0958316942649\n",
      "JJ 0.0811876999354\n",
      "DT 0.0748083217671\n"
     ]
    }
   ],
   "source": [
    "for a, b in pos_freq.most_common()[:5]:\n",
    "    print a, b * 1.0 / len(pos) * 1.0 #Most common POS' frequencies"
   ]
  },
  {
   "cell_type": "markdown",
   "metadata": {},
   "source": [
    "### Zipf's Law"
   ]
  },
  {
   "cell_type": "code",
   "execution_count": 9,
   "metadata": {
    "collapsed": false
   },
   "outputs": [
    {
     "data": {
      "text/plain": [
       "[<matplotlib.lines.Line2D at 0x20db4f28>]"
      ]
     },
     "execution_count": 9,
     "metadata": {},
     "output_type": "execute_result"
    },
    {
     "data": {
      "image/png": "[encoded data removed]",
      "text/plain": [
       "<matplotlib.figure.Figure at 0xbf3fe10>"
      ]
     },
     "metadata": {},
     "output_type": "display_data"
    }
   ],
   "source": [
    "words_lower = []\n",
    "for word in words:\n",
    "    words_lower.append(word.lower())\n",
    "    \n",
    "word_freq = FreqDist(words_lower)\n",
    "most_common_words = word_freq.most_common()[:100]\n",
    "\n",
    "n = most_common_words[0][1]\n",
    "nums = []\n",
    "nums.append(n)\n",
    "while len(nums) < 100:\n",
    "    nums.append(nums[-1] / 2)\n",
    "\n",
    "\n",
    "plt.plot([b for (a,b) in most_common_words]) # Blue\n",
    "plt.plot(nums) # Green"
   ]
  },
  {
   "cell_type": "code",
   "execution_count": 10,
   "metadata": {
    "collapsed": false
   },
   "outputs": [],
   "source": [
    "from nltk.corpus import stopwords"
   ]
  },
  {
   "cell_type": "markdown",
   "metadata": {},
   "source": [
    "# Part B"
   ]
  },
  {
   "cell_type": "markdown",
   "metadata": {},
   "source": [
    "### One Feature: Length of Description"
   ]
  },
  {
   "cell_type": "code",
   "execution_count": 11,
   "metadata": {
    "collapsed": false
   },
   "outputs": [],
   "source": [
    "jobs_b = jobs[['FullDescription', 'SalaryNormalized']]\n",
    "jobs_b_sample = jobs_b.sample(5000)"
   ]
  },
  {
   "cell_type": "code",
   "execution_count": 12,
   "metadata": {
    "collapsed": false
   },
   "outputs": [],
   "source": [
    "descriptions = []\n",
    "pay = []\n",
    "\n",
    "for index, value in jobs_b_sample.iterrows():\n",
    "    descriptions.append(value['FullDescription'])\n",
    "    pay.append(value['SalaryNormalized'])\n",
    "    \n",
    "perc_75 = np.percentile(pay, 75)\n",
    "    \n",
    "content = zip(descriptions, pay)"
   ]
  },
  {
   "cell_type": "code",
   "execution_count": 13,
   "metadata": {
    "collapsed": false
   },
   "outputs": [],
   "source": [
    "def find_pay_bin(pay):\n",
    "    return pay >= perc_75"
   ]
  },
  {
   "cell_type": "code",
   "execution_count": 14,
   "metadata": {
    "collapsed": false
   },
   "outputs": [
    {
     "data": {
      "text/plain": [
       "0.70199999999999996"
      ]
     },
     "execution_count": 14,
     "metadata": {},
     "output_type": "execute_result"
    }
   ],
   "source": [
    "def description_length(desc):\n",
    "    return {'description_length': len(desc)}\n",
    "\n",
    "feature_sets = [(description_length(desc), find_pay_bin(pay)) for (desc, pay) in content]\n",
    "\n",
    "train_set = feature_sets[2500:]\n",
    "test_set = feature_sets[:2500]\n",
    "\n",
    "classifier = nltk.NaiveBayesClassifier.train(train_set)\n",
    "\n",
    "nltk.classify.accuracy(classifier, test_set)"
   ]
  },
  {
   "cell_type": "markdown",
   "metadata": {
    "collapsed": true
   },
   "source": [
    "### One Feature: Words in Description"
   ]
  },
  {
   "cell_type": "code",
   "execution_count": 15,
   "metadata": {
    "collapsed": false
   },
   "outputs": [
    {
     "data": {
      "text/plain": [
       "0.71679999999999999"
      ]
     },
     "execution_count": 15,
     "metadata": {},
     "output_type": "execute_result"
    }
   ],
   "source": [
    "def description_word_length(desc):\n",
    "    return {'description_word_length': len(desc.split())}\n",
    "\n",
    "feature_sets = [(description_word_length(desc), find_pay_bin(pay)) for (desc, pay) in content]\n",
    "\n",
    "train_set = feature_sets[2500:]\n",
    "test_set = feature_sets[:2500]\n",
    "\n",
    "classifier = nltk.NaiveBayesClassifier.train(train_set)\n",
    "\n",
    "nltk.classify.accuracy(classifier, test_set)"
   ]
  },
  {
   "cell_type": "code",
   "execution_count": 16,
   "metadata": {
    "collapsed": false
   },
   "outputs": [
    {
     "name": "stdout",
     "output_type": "stream",
     "text": [
      "(269462L, 5000L)\n"
     ]
    }
   ],
   "source": [
    "vectorizer = CountVectorizer(analyzer = \"word\",   \\\n",
    "                             tokenizer = None,    \\\n",
    "                             preprocessor = None, \\\n",
    "                             stop_words = None,   \\\n",
    "                             max_features = 5000)\n",
    "\n",
    "job_features = vectorizer.fit_transform(tokens)\n",
    "\n",
    "job_features = job_features.toarray()\n",
    "\n",
    "print job_features.shape"
   ]
  },
  {
   "cell_type": "code",
   "execution_count": null,
   "metadata": {
    "collapsed": true
   },
   "outputs": [],
   "source": []
  }
 ],
 "metadata": {
  "anaconda-cloud": {},
  "kernelspec": {
   "display_name": "Python 2",
   "language": "python",
   "name": "python2"
  },
  "language_info": {
   "codemirror_mode": {
    "name": "ipython",
    "version": 2
   },
   "file_extension": ".py",
   "mimetype": "text/x-python",
   "name": "python",
   "nbconvert_exporter": "python",
   "pygments_lexer": "ipython2",
   "version": "2.7.12"
  }
 },
 "nbformat": 4,
 "nbformat_minor": 0
}
