{
 "cells": [
  {
   "cell_type": "code",
   "execution_count": 56,
   "metadata": {
    "collapsed": false
   },
   "outputs": [],
   "source": [
    "import nltk\n",
    "from nltk import *\n",
    "import pandas as pd\n",
    "import matplotlib.pyplot as plt\n",
    "%matplotlib inline \n",
    "import math\n",
    "import numpy as np\n",
    "from sklearn.feature_extraction.text import CountVectorizer"
   ]
  },
  {
   "cell_type": "code",
   "execution_count": 45,
   "metadata": {
    "collapsed": false
   },
   "outputs": [],
   "source": [
    "jobs = pd.read_csv(\"jobs.csv\") # 244,768 records\n",
    "jobs_sample = jobs.sample(1000) # 1,000 records"
   ]
  },
  {
   "cell_type": "code",
   "execution_count": 46,
   "metadata": {
    "collapsed": false
   },
   "outputs": [],
   "source": [
    "jobs_sample['tokenized_strip'] = jobs_sample.apply(lambda row: row['FullDescription'].decode('utf-8').strip(),axis=1)\n",
    "jobs_sample['tokenized'] = jobs_sample.apply(lambda row: nltk.word_tokenize(row['tokenized_strip']),axis=1)"
   ]
  },
  {
   "cell_type": "code",
   "execution_count": 54,
   "metadata": {
    "collapsed": false
   },
   "outputs": [],
   "source": [
    "tokens_series = pd.Series(jobs_sample['tokenized'])\n",
    "tokens_list = tokens_series.tolist()\n",
    "\n",
    "tokens = []\n",
    "for sentence in tokens_list:\n",
    "    for word in sentence:\n",
    "        tokens.append(word)"
   ]
  },
  {
   "cell_type": "code",
   "execution_count": 51,
   "metadata": {
    "collapsed": false
   },
   "outputs": [],
   "source": [
    "tokens_pos = nltk.pos_tag(tokens)"
   ]
  },
  {
   "cell_type": "markdown",
   "metadata": {},
   "source": [
    "### Most Common POS"
   ]
  },
  {
   "cell_type": "code",
   "execution_count": 13,
   "metadata": {
    "collapsed": false
   },
   "outputs": [
    {
     "data": {
      "text/plain": [
       "[('NN', 45826), ('NNP', 33489), ('IN', 25807), ('JJ', 22037), ('DT', 20021)]"
      ]
     },
     "execution_count": 13,
     "metadata": {},
     "output_type": "execute_result"
    }
   ],
   "source": [
    "words, pos = zip(*tokens_pos) # Unzip\n",
    "pos_freq = FreqDist(pos)\n",
    "pos_freq.most_common()[:5] #Most frequent POS's"
   ]
  },
  {
   "cell_type": "markdown",
   "metadata": {},
   "source": [
    "### Most Common POS' Frequencies"
   ]
  },
  {
   "cell_type": "code",
   "execution_count": 14,
   "metadata": {
    "collapsed": false
   },
   "outputs": [
    {
     "name": "stdout",
     "output_type": "stream",
     "text": [
      "NN 0.172084761865\n",
      "NNP 0.125757137654\n",
      "IN 0.0969098644756\n",
      "JJ 0.0827528454857\n",
      "DT 0.0751824077447\n"
     ]
    }
   ],
   "source": [
    "for a, b in pos_freq.most_common()[:5]:\n",
    "    print a, b * 1.0 / len(pos) * 1.0 #Most common POS' frequencies"
   ]
  },
  {
   "cell_type": "markdown",
   "metadata": {},
   "source": [
    "### Zipf's Law"
   ]
  },
  {
   "cell_type": "code",
   "execution_count": 111,
   "metadata": {
    "collapsed": false
   },
   "outputs": [
    {
     "data": {
      "text/plain": [
       "[<matplotlib.lines.Line2D at 0x24821f60>]"
      ]
     },
     "execution_count": 111,
     "metadata": {},
     "output_type": "execute_result"
    },
    {
     "data": {
      "image/png": "[encoded data removed]",
      "text/plain": [
       "<matplotlib.figure.Figure at 0x519d1f60>"
      ]
     },
     "metadata": {},
     "output_type": "display_data"
    }
   ],
   "source": [
    "words_lower = []\n",
    "for word in words:\n",
    "    words_lower.append(word.lower())\n",
    "    \n",
    "word_freq = FreqDist(words_lower)\n",
    "most_common_words = word_freq.most_common()[:100]\n",
    "\n",
    "n = most_common_words[0][1]\n",
    "nums = []\n",
    "nums.append(n)\n",
    "counter = 1\n",
    "while len(nums) < 100:\n",
    "    counter += 1\n",
    "    nums.append(n * (1.0 * 1/counter * 1.0))\n",
    "\n",
    "\n",
    "plt.plot([b for (a,b) in most_common_words]) # Blue\n",
    "plt.plot(nums) # Green"
   ]
  },
  {
   "cell_type": "code",
   "execution_count": 112,
   "metadata": {
    "collapsed": false
   },
   "outputs": [
    {
     "data": {
      "text/plain": [
       "[10452,\n",
       " 5226.0,\n",
       " 3484.0,\n",
       " 2613.0,\n",
       " 2090.4,\n",
       " 1742.0,\n",
       " 1493.142857142857,\n",
       " 1306.5,\n",
       " 1161.3333333333333,\n",
       " 1045.2,\n",
       " 950.1818181818182,\n",
       " 871.0,\n",
       " 804.0,\n",
       " 746.5714285714286,\n",
       " 696.8,\n",
       " 653.25,\n",
       " 614.8235294117648,\n",
       " 580.6666666666666,\n",
       " 550.1052631578947,\n",
       " 522.6,\n",
       " 497.71428571428567,\n",
       " 475.0909090909091,\n",
       " 454.4347826086956,\n",
       " 435.5,\n",
       " 418.08,\n",
       " 402.0,\n",
       " 387.1111111111111,\n",
       " 373.2857142857143,\n",
       " 360.41379310344826,\n",
       " 348.4,\n",
       " 337.1612903225806,\n",
       " 326.625,\n",
       " 316.72727272727275,\n",
       " 307.4117647058824,\n",
       " 298.62857142857143,\n",
       " 290.3333333333333,\n",
       " 282.4864864864865,\n",
       " 275.05263157894734,\n",
       " 268.0,\n",
       " 261.3,\n",
       " 254.9268292682927,\n",
       " 248.85714285714283,\n",
       " 243.06976744186045,\n",
       " 237.54545454545456,\n",
       " 232.26666666666668,\n",
       " 227.2173913043478,\n",
       " 222.38297872340425,\n",
       " 217.75,\n",
       " 213.30612244897958,\n",
       " 209.04,\n",
       " 204.94117647058823,\n",
       " 201.0,\n",
       " 197.2075471698113,\n",
       " 193.55555555555554,\n",
       " 190.03636363636363,\n",
       " 186.64285714285714,\n",
       " 183.36842105263156,\n",
       " 180.20689655172413,\n",
       " 177.15254237288136,\n",
       " 174.2,\n",
       " 171.344262295082,\n",
       " 168.5806451612903,\n",
       " 165.9047619047619,\n",
       " 163.3125,\n",
       " 160.8,\n",
       " 158.36363636363637,\n",
       " 156.0,\n",
       " 153.7058823529412,\n",
       " 151.47826086956522,\n",
       " 149.31428571428572,\n",
       " 147.2112676056338,\n",
       " 145.16666666666666,\n",
       " 143.17808219178082,\n",
       " 141.24324324324326,\n",
       " 139.36,\n",
       " 137.52631578947367,\n",
       " 135.74025974025975,\n",
       " 134.0,\n",
       " 132.30379746835442,\n",
       " 130.65,\n",
       " 129.03703703703704,\n",
       " 127.46341463414635,\n",
       " 125.9277108433735,\n",
       " 124.42857142857142,\n",
       " 122.96470588235294,\n",
       " 121.53488372093022,\n",
       " 120.13793103448276,\n",
       " 118.77272727272728,\n",
       " 117.43820224719101,\n",
       " 116.13333333333334,\n",
       " 114.85714285714286,\n",
       " 113.6086956521739,\n",
       " 112.38709677419355,\n",
       " 111.19148936170212,\n",
       " 110.02105263157894,\n",
       " 108.875,\n",
       " 107.75257731958763,\n",
       " 106.65306122448979,\n",
       " 105.57575757575758,\n",
       " 104.52]"
      ]
     },
     "execution_count": 112,
     "metadata": {},
     "output_type": "execute_result"
    }
   ],
   "source": [
    "nums"
   ]
  },
  {
   "cell_type": "code",
   "execution_count": 16,
   "metadata": {
    "collapsed": false
   },
   "outputs": [],
   "source": [
    "from nltk.corpus import stopwords"
   ]
  },
  {
   "cell_type": "markdown",
   "metadata": {},
   "source": [
    "# Part B"
   ]
  },
  {
   "cell_type": "markdown",
   "metadata": {},
   "source": [
    "### One Feature: Length of Description"
   ]
  },
  {
   "cell_type": "code",
   "execution_count": 17,
   "metadata": {
    "collapsed": false
   },
   "outputs": [],
   "source": [
    "jobs_b = jobs[['FullDescription', 'SalaryNormalized']]\n",
    "jobs_b_sample = jobs_b.sample(5000)"
   ]
  },
  {
   "cell_type": "code",
   "execution_count": 18,
   "metadata": {
    "collapsed": false
   },
   "outputs": [],
   "source": [
    "descriptions = []\n",
    "pay = []\n",
    "\n",
    "for index, value in jobs_b_sample.iterrows():\n",
    "    descriptions.append(value['FullDescription'])\n",
    "    pay.append(value['SalaryNormalized'])\n",
    "    \n",
    "perc_75 = np.percentile(pay, 75)\n",
    "    \n",
    "content = zip(descriptions, pay)"
   ]
  },
  {
   "cell_type": "code",
   "execution_count": 19,
   "metadata": {
    "collapsed": false
   },
   "outputs": [],
   "source": [
    "def find_pay_bin(pay):\n",
    "    return pay >= perc_75"
   ]
  },
  {
   "cell_type": "code",
   "execution_count": 30,
   "metadata": {
    "collapsed": false
   },
   "outputs": [
    {
     "data": {
      "text/plain": [
       "0.69440000000000002"
      ]
     },
     "execution_count": 30,
     "metadata": {},
     "output_type": "execute_result"
    }
   ],
   "source": [
    "def description_length(desc):\n",
    "    return {'description_length': len(desc)}\n",
    "\n",
    "feature_sets = [(description_length(desc), find_pay_bin(pay)) for (desc, pay) in content]\n",
    "\n",
    "train_set = feature_sets[2500:]\n",
    "test_set = feature_sets[:2500]\n",
    "\n",
    "classifier = nltk.NaiveBayesClassifier.train(train_set)\n",
    "\n",
    "nltk.classify.accuracy(classifier, test_set)"
   ]
  },
  {
   "cell_type": "markdown",
   "metadata": {
    "collapsed": true
   },
   "source": [
    "### One Feature: Words in Description"
   ]
  },
  {
   "cell_type": "code",
   "execution_count": 31,
   "metadata": {
    "collapsed": false
   },
   "outputs": [
    {
     "data": {
      "text/plain": [
       "0.69240000000000002"
      ]
     },
     "execution_count": 31,
     "metadata": {},
     "output_type": "execute_result"
    }
   ],
   "source": [
    "def description_word_length(desc):\n",
    "    return {'description_word_length': len(desc.split())}\n",
    "\n",
    "feature_sets = [(description_word_length(desc), find_pay_bin(pay)) for (desc, pay) in content]\n",
    "\n",
    "train_set = feature_sets[2500:]\n",
    "test_set = feature_sets[:2500]\n",
    "\n",
    "classifier = nltk.NaiveBayesClassifier.train(train_set)\n",
    "\n",
    "nltk.classify.accuracy(classifier, test_set)"
   ]
  },
  {
   "cell_type": "markdown",
   "metadata": {},
   "source": [
    "###  Bag of Words"
   ]
  },
  {
   "cell_type": "code",
   "execution_count": 71,
   "metadata": {
    "collapsed": true
   },
   "outputs": [],
   "source": [
    "tokenized_strip = pd.Series(jobs_sample['tokenized_strip'])\n",
    "strip_list = tokenized_strip.tolist()"
   ]
  },
  {
   "cell_type": "code",
   "execution_count": 100,
   "metadata": {
    "collapsed": false
   },
   "outputs": [],
   "source": [
    "vectorizer = CountVectorizer(analyzer = \"word\",   \\\n",
    "                             tokenizer = None,    \\\n",
    "                             preprocessor = None, \\\n",
    "                             stop_words = None)\n",
    "\n",
    "job_features = vectorizer.fit_transform(strip_list)\n",
    "\n",
    "job_features = job_features.toarray()\n",
    "\n",
    "vocab = vectorizer.get_feature_names()\n",
    "\n",
    "dist = np.sum(job_features, axis=0)"
   ]
  },
  {
   "cell_type": "code",
   "execution_count": 104,
   "metadata": {
    "collapsed": false
   },
   "outputs": [],
   "source": [
    "bag_zip = zip(vocab, dist)"
   ]
  },
  {
   "cell_type": "code",
   "execution_count": 106,
   "metadata": {
    "collapsed": false
   },
   "outputs": [],
   "source": [
    "bag_dict = {}\n",
    "\n",
    "for vocab, dist in bag_zip:\n",
    "    bag_dict[vocab] = dist"
   ]
  }
 ],
 "metadata": {
  "anaconda-cloud": {},
  "kernelspec": {
   "display_name": "Python 2",
   "language": "python",
   "name": "python2"
  },
  "language_info": {
   "codemirror_mode": {
    "name": "ipython",
    "version": 2
   },
   "file_extension": ".py",
   "mimetype": "text/x-python",
   "name": "python",
   "nbconvert_exporter": "python",
   "pygments_lexer": "ipython2",
   "version": "2.7.12"
  }
 },
 "nbformat": 4,
 "nbformat_minor": 0
}
